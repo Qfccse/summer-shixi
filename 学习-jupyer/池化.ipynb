{
 "cells": [
  {
   "cell_type": "code",
   "execution_count": 1,
   "id": "dd037d4f",
   "metadata": {},
   "outputs": [],
   "source": [
    "import torch"
   ]
  },
  {
   "cell_type": "code",
   "execution_count": 2,
   "id": "700c42c1",
   "metadata": {},
   "outputs": [],
   "source": [
    "def pool(X,pool_size=2):\n",
    "    h,w = pool_size\n",
    "    y = torch.zeros(X.shape[0] - h +1 , X.shape[1] - w + 1)\n",
    "    for i in range(h):\n",
    "        for j in range(w):\n",
    "            y[i:j] = X[i:i+h,j:j+w].max()\n",
    "            \n",
    "    return y"
   ]
  },
  {
   "cell_type": "code",
   "execution_count": null,
   "id": "c4e30baf",
   "metadata": {},
   "outputs": [],
   "source": []
  }
 ],
 "metadata": {
  "kernelspec": {
   "display_name": "Python [conda env:root] *",
   "language": "python",
   "name": "conda-root-py"
  },
  "language_info": {
   "codemirror_mode": {
    "name": "ipython",
    "version": 3
   },
   "file_extension": ".py",
   "mimetype": "text/x-python",
   "name": "python",
   "nbconvert_exporter": "python",
   "pygments_lexer": "ipython3",
   "version": "3.9.7"
  }
 },
 "nbformat": 4,
 "nbformat_minor": 5
}
