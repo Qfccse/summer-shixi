{
 "cells": [
  {
   "cell_type": "code",
   "execution_count": 4,
   "id": "b5934847",
   "metadata": {},
   "outputs": [
    {
     "data": {
      "text/plain": [
       "tensor([0.0000, 1.2500, 0.0000, 0.0000, 5.0000, 0.0000, 7.5000, 0.0000, 0.0000,\n",
       "        0.0000])"
      ]
     },
     "execution_count": 4,
     "metadata": {},
     "output_type": "execute_result"
    }
   ],
   "source": [
    "import torch\n",
    "from torch import nn\n",
    "from d2l import torch as d2l\n",
    "\n",
    "x = torch.tensor(range(10))\n",
    "\n",
    "def drop_layer(x,dropout):\n",
    "    mask = torch.rand(x.shape)\n",
    "    mask = (mask>dropout).float()\n",
    "    \n",
    "    return mask * x / (1- dropout)\n",
    "    \n",
    "drop_layer(x,0.2)"
   ]
  }
 ],
 "metadata": {
  "kernelspec": {
   "display_name": "Python [conda env:root] *",
   "language": "python",
   "name": "conda-root-py"
  },
  "language_info": {
   "codemirror_mode": {
    "name": "ipython",
    "version": 3
   },
   "file_extension": ".py",
   "mimetype": "text/x-python",
   "name": "python",
   "nbconvert_exporter": "python",
   "pygments_lexer": "ipython3",
   "version": "3.9.7"
  }
 },
 "nbformat": 4,
 "nbformat_minor": 5
}
