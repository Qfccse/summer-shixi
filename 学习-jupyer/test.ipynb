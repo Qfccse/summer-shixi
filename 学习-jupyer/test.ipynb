{
 "cells": [
  {
   "cell_type": "code",
   "execution_count": 2,
   "id": "2669f6fd",
   "metadata": {},
   "outputs": [
    {
     "name": "stdout",
     "output_type": "stream",
     "text": [
      "0.0 1\n",
      "0.0 2\n",
      "(0.0, 1) (0.0, 2)\n"
     ]
    },
    {
     "data": {
      "text/plain": [
       "[1.0, 2.0]"
      ]
     },
     "execution_count": 2,
     "metadata": {},
     "output_type": "execute_result"
    }
   ],
   "source": [
    "import torch \n",
    "a = torch.tensor([0,2])\n",
    "b = torch.tensor([[0.1,0.2,0.6],\n",
    "                   [0.5,0.8,0.9]])\n",
    "\n",
    "b = b.argmax(axis=1)\n",
    "cmp = b.type(a.dtype) == a\n",
    "cmp\n",
    "\n",
    "for a ,b in zip([0.0,0.0],(1,2)):\n",
    "    print(a,b)\n",
    "print(*zip([0.0,0.0],(1,2)))\n",
    "\n",
    "[a + float(b) for a ,b in zip([0.0,0.0],(1,2))]\n"
   ]
  },
  {
   "cell_type": "code",
   "execution_count": 3,
   "id": "004257e0",
   "metadata": {},
   "outputs": [
    {
     "data": {
      "text/plain": [
       "(tensor([[ 1,  2, -1],\n",
       "         [ 1, -1,  3]]),\n",
       " tensor([[0, 0, 0],\n",
       "         [0, 0, 0]]))"
      ]
     },
     "execution_count": 3,
     "metadata": {},
     "output_type": "execute_result"
    }
   ],
   "source": [
    "x = torch.tensor([[1,2,-1],[1,-1,3]])\n",
    "b = torch.zeros_like(x)\n",
    "x,b"
   ]
  },
  {
   "cell_type": "code",
   "execution_count": 4,
   "id": "b1b386fb",
   "metadata": {},
   "outputs": [
    {
     "data": {
      "text/plain": [
       "tensor([[1, 2, 0],\n",
       "        [1, 0, 3]])"
      ]
     },
     "execution_count": 4,
     "metadata": {},
     "output_type": "execute_result"
    }
   ],
   "source": [
    "torch.max(x,b)"
   ]
  },
  {
   "cell_type": "code",
   "execution_count": 9,
   "id": "13a6cf2b",
   "metadata": {},
   "outputs": [
    {
     "data": {
      "text/plain": [
       "(tensor([0, 1, 2, 3, 4, 5, 6, 7, 8, 9]),\n",
       " tensor([0.8698, 0.6429, 0.5326, 0.4241, 0.1123, 0.1499, 0.8812, 0.3577, 0.6891,\n",
       "         0.2017]))"
      ]
     },
     "execution_count": 9,
     "metadata": {},
     "output_type": "execute_result"
    }
   ],
   "source": [
    "import torch \n",
    "x  = torch.tensor(range(10))\n",
    "y = torch.rand(x.shape)\n",
    "x,y"
   ]
  },
  {
   "cell_type": "code",
   "execution_count": 12,
   "id": "4449d5b0",
   "metadata": {},
   "outputs": [
    {
     "data": {
      "text/plain": [
       "(tensor([1., 1., 1., 1., 0., 0., 1., 1., 1., 1.]),\n",
       " tensor([ 0.0000,  1.2500,  2.5000,  3.7500,  0.0000,  0.0000,  7.5000,  8.7500,\n",
       "         10.0000, 11.2500]))"
      ]
     },
     "execution_count": 12,
     "metadata": {},
     "output_type": "execute_result"
    }
   ],
   "source": [
    "dropout = 0.2\n",
    "z = (y>dropout).float()\n",
    "z,z*x/(1-dropout)"
   ]
  },
  {
   "cell_type": "code",
   "execution_count": 32,
   "id": "2277912b",
   "metadata": {},
   "outputs": [
    {
     "data": {
      "text/plain": [
       "tensor([0., 1., 2., 3.])"
      ]
     },
     "execution_count": 32,
     "metadata": {},
     "output_type": "execute_result"
    }
   ],
   "source": [
    "import torch\n",
    "x = torch.arange(4.0)\n",
    "x"
   ]
  },
  {
   "cell_type": "code",
   "execution_count": 34,
   "id": "b0c2b831",
   "metadata": {},
   "outputs": [
    {
     "data": {
      "text/plain": [
       "tensor([0., 1., 2., 3.], requires_grad=True)"
      ]
     },
     "execution_count": 34,
     "metadata": {},
     "output_type": "execute_result"
    }
   ],
   "source": [
    "x.requires_grad_(True)"
   ]
  },
  {
   "cell_type": "code",
   "execution_count": 38,
   "id": "bdfc122f",
   "metadata": {},
   "outputs": [
    {
     "data": {
      "text/plain": [
       "(tensor(14., grad_fn=<DotBackward0>),\n",
       " tensor([0., 1., 4., 9.], grad_fn=<MulBackward0>))"
      ]
     },
     "execution_count": 38,
     "metadata": {},
     "output_type": "execute_result"
    }
   ],
   "source": [
    "y = torch.dot(x,x)\n",
    "z = x*x\n",
    "y,z"
   ]
  },
  {
   "cell_type": "code",
   "execution_count": 39,
   "id": "1c6619be",
   "metadata": {},
   "outputs": [
    {
     "data": {
      "text/plain": [
       "tensor([0., 2., 4., 6.])"
      ]
     },
     "execution_count": 39,
     "metadata": {},
     "output_type": "execute_result"
    }
   ],
   "source": [
    "y.backward()\n",
    "x.grad"
   ]
  },
  {
   "cell_type": "code",
   "execution_count": 40,
   "id": "f56a59af",
   "metadata": {},
   "outputs": [
    {
     "data": {
      "text/plain": [
       "tensor(6., grad_fn=<SumBackward0>)"
      ]
     },
     "execution_count": 40,
     "metadata": {},
     "output_type": "execute_result"
    }
   ],
   "source": [
    "w = x.sum()\n",
    "w"
   ]
  },
  {
   "cell_type": "code",
   "execution_count": 47,
   "id": "40c3e607",
   "metadata": {},
   "outputs": [
    {
     "data": {
      "text/plain": [
       "tensor([1., 1., 1., 1.])"
      ]
     },
     "execution_count": 47,
     "metadata": {},
     "output_type": "execute_result"
    }
   ],
   "source": [
    "x.grad.zero_()\n",
    "w.backward()\n",
    "x.grad"
   ]
  },
  {
   "cell_type": "code",
   "execution_count": 48,
   "id": "1712c57e",
   "metadata": {},
   "outputs": [
    {
     "data": {
      "text/plain": [
       "tensor([0., 2., 4., 6.])"
      ]
     },
     "execution_count": 48,
     "metadata": {},
     "output_type": "execute_result"
    }
   ],
   "source": [
    "x.grad.zero_()\n",
    "z.sum().backward()\n",
    "x.grad"
   ]
  },
  {
   "cell_type": "code",
   "execution_count": 22,
   "id": "b3104263",
   "metadata": {},
   "outputs": [
    {
     "data": {
      "text/plain": [
       "(tensor([[[ 0.,  1.,  2.],\n",
       "          [ 3.,  4.,  5.],\n",
       "          [ 6.,  7.,  8.]],\n",
       " \n",
       "         [[ 9., 10., 11.],\n",
       "          [12., 13., 14.],\n",
       "          [15., 16., 17.]],\n",
       " \n",
       "         [[18., 19., 20.],\n",
       "          [21., 22., 23.],\n",
       "          [24., 25., 26.]]]),\n",
       " tensor([[[[1.]],\n",
       " \n",
       "          [[1.]],\n",
       " \n",
       "          [[1.]]],\n",
       " \n",
       " \n",
       "         [[[1.]],\n",
       " \n",
       "          [[1.]],\n",
       " \n",
       "          [[1.]]]]),\n",
       " torch.Size([2, 3, 1, 1]))"
      ]
     },
     "execution_count": 22,
     "metadata": {},
     "output_type": "execute_result"
    }
   ],
   "source": [
    "import torch\n",
    "\n",
    "x = torch.tensor(range(27),dtype=torch.float).reshape(3,3,3)\n",
    "y = torch.ones(2,3,1,1,dtype=torch.float)\n",
    "x,y,y.shape"
   ]
  },
  {
   "cell_type": "code",
   "execution_count": 23,
   "id": "c7d2e17c",
   "metadata": {},
   "outputs": [
    {
     "data": {
      "text/plain": [
       "(tensor([[ 0.,  1.,  2.,  3.,  4.,  5.,  6.,  7.,  8.],\n",
       "         [ 9., 10., 11., 12., 13., 14., 15., 16., 17.],\n",
       "         [18., 19., 20., 21., 22., 23., 24., 25., 26.]]),\n",
       " tensor([[1., 1., 1.],\n",
       "         [1., 1., 1.]]))"
      ]
     },
     "execution_count": 23,
     "metadata": {},
     "output_type": "execute_result"
    }
   ],
   "source": [
    "x = x.view(3,9)\n",
    "y = y.view(2,3)\n",
    "x,y"
   ]
  },
  {
   "cell_type": "code",
   "execution_count": 24,
   "id": "2cdca85b",
   "metadata": {},
   "outputs": [
    {
     "data": {
      "text/plain": [
       "tensor([[27., 30., 33., 36., 39., 42., 45., 48., 51.],\n",
       "        [27., 30., 33., 36., 39., 42., 45., 48., 51.]])"
      ]
     },
     "execution_count": 24,
     "metadata": {},
     "output_type": "execute_result"
    }
   ],
   "source": [
    "y@x"
   ]
  },
  {
   "cell_type": "code",
   "execution_count": null,
   "id": "4b073d7e",
   "metadata": {},
   "outputs": [],
   "source": []
  }
 ],
 "metadata": {
  "kernelspec": {
   "display_name": "Python [conda env:root] *",
   "language": "python",
   "name": "conda-root-py"
  },
  "language_info": {
   "codemirror_mode": {
    "name": "ipython",
    "version": 3
   },
   "file_extension": ".py",
   "mimetype": "text/x-python",
   "name": "python",
   "nbconvert_exporter": "python",
   "pygments_lexer": "ipython3",
   "version": "3.9.7"
  }
 },
 "nbformat": 4,
 "nbformat_minor": 5
}
