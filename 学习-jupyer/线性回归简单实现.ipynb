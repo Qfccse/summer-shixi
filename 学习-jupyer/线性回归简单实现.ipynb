{
 "cells": [
  {
   "cell_type": "code",
   "execution_count": 63,
   "id": "ad5f288a",
   "metadata": {},
   "outputs": [],
   "source": [
    "import numpy as py \n",
    "import torch\n",
    "from torch import nn\n",
    "import torch.utils.data as Data\n",
    "from d2l import torch as d2l\n",
    "\n",
    "true_w = torch.tensor([2, -3.4])\n",
    "true_b = 4.2\n",
    "features, labels = d2l.synthetic_data(true_w, true_b, 1000)"
   ]
  },
  {
   "cell_type": "code",
   "execution_count": 64,
   "id": "81ea148f",
   "metadata": {},
   "outputs": [
    {
     "data": {
      "text/plain": [
       "[tensor([[ 1.2494, -0.8075],\n",
       "         [ 0.1326,  2.1115],\n",
       "         [ 0.6157, -1.1403],\n",
       "         [ 0.6212, -0.9380],\n",
       "         [ 0.2583,  0.1616],\n",
       "         [ 1.6680, -0.3092],\n",
       "         [-1.6012,  0.7630],\n",
       "         [-0.1643,  0.9724],\n",
       "         [ 0.1513, -0.4553],\n",
       "         [-0.1193, -0.7953]]),\n",
       " tensor([[ 9.4381],\n",
       "         [-2.7330],\n",
       "         [ 9.3262],\n",
       "         [ 8.6238],\n",
       "         [ 4.1649],\n",
       "         [ 8.5757],\n",
       "         [-1.6047],\n",
       "         [ 0.5618],\n",
       "         [ 6.0559],\n",
       "         [ 6.6602]])]"
      ]
     },
     "execution_count": 64,
     "metadata": {},
     "output_type": "execute_result"
    }
   ],
   "source": [
    "batch_size = 10\n",
    "def load_array(data_arrays,batch_size, is_train=True):\n",
    "    dataset = Data.TensorDataset(*data_arrays)\n",
    "    return Data.DataLoader(dataset,batch_size,shuffle=is_train)\n",
    "\n",
    "data_iter = load_array((features,labels),batch_size)\n",
    "next(iter(data_iter))"
   ]
  },
  {
   "cell_type": "code",
   "execution_count": 65,
   "id": "87141b27",
   "metadata": {},
   "outputs": [
    {
     "name": "stdout",
     "output_type": "stream",
     "text": [
      "Parameter containing:\n",
      "tensor([[-0.0086, -0.0047]], requires_grad=True)\n",
      "Parameter containing:\n",
      "tensor([0.], requires_grad=True)\n"
     ]
    }
   ],
   "source": [
    "net = nn.Sequential(nn.Linear(2,1))\n",
    "net[0].weight.data.normal_(0,0.01)\n",
    "net[0].bias.data.fill_(0)\n",
    "for x in net.parameters():\n",
    "    print(x)"
   ]
  },
  {
   "cell_type": "code",
   "execution_count": 66,
   "id": "56eb8295",
   "metadata": {},
   "outputs": [],
   "source": [
    "loss = nn.MSELoss()\n",
    "trainer = torch.optim.SGD(net.parameters(),lr=0.03)\n",
    "#传入参数的初始值，后续通过调用step函数来更新参数"
   ]
  },
  {
   "cell_type": "code",
   "execution_count": 67,
   "id": "9df2703a",
   "metadata": {},
   "outputs": [
    {
     "name": "stdout",
     "output_type": "stream",
     "text": [
      "epoch 1, loss 0.000220\n",
      "epoch 2, loss 0.000101\n",
      "epoch 3, loss 0.000101\n"
     ]
    }
   ],
   "source": [
    "num_epochs = 3\n",
    "for epoch in range(num_epochs):\n",
    "    for X, y in data_iter:\n",
    "        l = loss(net(X) ,y)\n",
    "        trainer.zero_grad()\n",
    "        l.backward()\n",
    "        trainer.step()\n",
    "    l = loss(net(features), labels)\n",
    "    print(f'epoch {epoch + 1}, loss {l:f}')"
   ]
  },
  {
   "cell_type": "code",
   "execution_count": null,
   "id": "0af13904",
   "metadata": {},
   "outputs": [],
   "source": []
  }
 ],
 "metadata": {
  "kernelspec": {
   "display_name": "Python [conda env:root] *",
   "language": "python",
   "name": "conda-root-py"
  },
  "language_info": {
   "codemirror_mode": {
    "name": "ipython",
    "version": 3
   },
   "file_extension": ".py",
   "mimetype": "text/x-python",
   "name": "python",
   "nbconvert_exporter": "python",
   "pygments_lexer": "ipython3",
   "version": "3.9.7"
  }
 },
 "nbformat": 4,
 "nbformat_minor": 5
}
