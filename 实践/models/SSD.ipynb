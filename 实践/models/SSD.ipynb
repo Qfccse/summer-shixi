{
 "nbformat": 4,
 "nbformat_minor": 0,
 "metadata": {
  "colab": {
   "name": "SSD.ipynb",
   "provenance": [],
   "collapsed_sections": [],
   "authorship_tag": "ABX9TyPQz/kmPdz3SQadAFIrOjCP"
  },
  "kernelspec": {
   "name": "python3",
   "display_name": "Python 3"
  },
  "language_info": {
   "name": "python"
  }
 },
 "cells": [
  {
   "cell_type": "code",
   "execution_count": null,
   "metadata": {
    "id": "W9XsmHW1OIHv",
    "pycharm": {
     "name": "#%%\n"
    }
   },
   "outputs": [],
   "source": [
    "!pip install d2l==0.16."
   ]
  },
  {
   "cell_type": "code",
   "source": [
    "import torchvision\n",
    "from torch.utils import data\n",
    "from torchvision import transforms\n",
    "def load_data_fashion_mnist(batch_size, resize=None):\n",
    "    \"\"\"下载Fashion-MNIST数据集，然后将其加载到内存中\"\"\"\n",
    "    trans = [transforms.ToTensor()]\n",
    "    if resize:\n",
    "        trans.insert(0, transforms.Resize(resize))\n",
    "    trans = transforms.Compose(trans)\n",
    "    mnist_train = torchvision.datasets.FashionMNIST(\n",
    "        root=\"../data\", train=True, transform=trans, download=True)\n",
    "    mnist_test = torchvision.datasets.FashionMNIST(\n",
    "        root=\"../data\", train=False, transform=trans, download=True)\n",
    " # 注意：colab只支持2线程，所以这里的num_works为2\n",
    "    return (data.DataLoader(mnist_train, batch_size, shuffle=True,\n",
    "                            num_workers=2),\n",
    "            data.DataLoader(mnist_test, batch_size, shuffle=False,\n",
    "                            num_workers=2))\n",
    "\n",
    "\n"
   ],
   "metadata": {
    "id": "0mdAlGIOOsQC",
    "executionInfo": {
     "status": "ok",
     "timestamp": 1651838319664,
     "user_tz": -480,
     "elapsed": 4303,
     "user": {
      "displayName": "Netherlands Amsterdam",
      "userId": "05899367242483819401"
     }
    },
    "pycharm": {
     "name": "#%%\n"
    }
   },
   "execution_count": 2,
   "outputs": []
  },
  {
   "cell_type": "code",
   "source": [
    "from google.colab import drive\n",
    "drive.mount('/content/drive')\n",
    "\n",
    "%cd /content/drive/My Drive\n",
    "!ls\n",
    "%cd d2l-dataset/"
   ],
   "metadata": {
    "colab": {
     "base_uri": "https://localhost:8080/"
    },
    "id": "869cOvX4Osk-",
    "executionInfo": {
     "status": "ok",
     "timestamp": 1651838345170,
     "user_tz": -480,
     "elapsed": 21174,
     "user": {
      "displayName": "Netherlands Amsterdam",
      "userId": "05899367242483819401"
     }
    },
    "outputId": "7c16dc83-25ba-4b8a-c723-f2e7712fc062",
    "pycharm": {
     "name": "#%%\n"
    }
   },
   "execution_count": 3,
   "outputs": [
    {
     "output_type": "stream",
     "name": "stdout",
     "text": [
      "Mounted at /content/drive\n",
      "/content/drive/My Drive\n",
      "'Colab Notebooks'   d2l-dataset   d2l-zh   data   test.ipynb\n",
      "/content/drive/My Drive/d2l-dataset\n"
     ]
    }
   ]
  },
  {
   "cell_type": "code",
   "source": [
    "%matplotlib inline\n",
    "import torch\n",
    "from d2l import torch as d2l\n",
    "from torch import nn\n",
    "\n",
    "def cls_predictor(num_inputs ,num_anchors, num_classes):\n",
    "  return nn.Conv2d(num_inputs,num_anchors*(num_classes +1),\n",
    "                   kernel_size=2,padding=1)\n",
    "  "
   ],
   "metadata": {
    "id": "jHWxOLIHOssG",
    "executionInfo": {
     "status": "ok",
     "timestamp": 1651838525440,
     "user_tz": -480,
     "elapsed": 402,
     "user": {
      "displayName": "Netherlands Amsterdam",
      "userId": "05899367242483819401"
     }
    },
    "pycharm": {
     "name": "#%%\n"
    }
   },
   "execution_count": 4,
   "outputs": []
  },
  {
   "cell_type": "code",
   "source": [
    "def bbox_predictor(num_inputs, num_anchors):\n",
    "  return nn.Conv2d(num_inputs,num_anchors*4,kernel_size=3,padding=1)"
   ],
   "metadata": {
    "id": "6O-3aBR2Qmgh",
    "executionInfo": {
     "status": "ok",
     "timestamp": 1651838981500,
     "user_tz": -480,
     "elapsed": 7,
     "user": {
      "displayName": "Netherlands Amsterdam",
      "userId": "05899367242483819401"
     }
    },
    "pycharm": {
     "name": "#%%\n"
    }
   },
   "execution_count": 6,
   "outputs": []
  },
  {
   "cell_type": "code",
   "source": [
    "def flatten_pred(pred):\n",
    "  return torch.flatten(pred.permute(0,2,3,1),start_dim=1)\n",
    "\n",
    "def concat_pred(preds):\n",
    "  return torch.concat([flatten_pred(x) for x in preds],dim=1);\n"
   ],
   "metadata": {
    "id": "e7UPMNO_S-Ly",
    "executionInfo": {
     "status": "ok",
     "timestamp": 1651839819387,
     "user_tz": -480,
     "elapsed": 1212,
     "user": {
      "displayName": "Netherlands Amsterdam",
      "userId": "05899367242483819401"
     }
    },
    "pycharm": {
     "name": "#%%\n"
    }
   },
   "execution_count": 24,
   "outputs": []
  },
  {
   "cell_type": "code",
   "source": [
    "def forward(x,blocks):\n",
    "  return (blocks(x))\n",
    "\n",
    "Y1 = forward(torch.zeros((2,8,20,20)),cls_predictor(8,5,10))\n",
    "Y2 = forward(torch.zeros((2,16,10,10)),cls_predictor(16,3,10))\n",
    "Y1.shape  ,Y2.shape"
   ],
   "metadata": {
    "colab": {
     "base_uri": "https://localhost:8080/"
    },
    "id": "Um9sGUpKRCKB",
    "executionInfo": {
     "status": "ok",
     "timestamp": 1651839784390,
     "user_tz": -480,
     "elapsed": 385,
     "user": {
      "displayName": "Netherlands Amsterdam",
      "userId": "05899367242483819401"
     }
    },
    "outputId": "c37b3e3e-f6f1-47d8-f548-74fbf28afdd4",
    "pycharm": {
     "name": "#%%\n"
    }
   },
   "execution_count": 22,
   "outputs": [
    {
     "output_type": "execute_result",
     "data": {
      "text/plain": [
       "(torch.Size([2, 55, 21, 21]), torch.Size([2, 33, 11, 11]))"
      ]
     },
     "metadata": {},
     "execution_count": 22
    }
   ]
  },
  {
   "cell_type": "code",
   "source": [
    "flatten_pred(Y1).shape,flatten_pred(Y2).shape,concat_pred([Y1,Y2]).shape"
   ],
   "metadata": {
    "colab": {
     "base_uri": "https://localhost:8080/"
    },
    "id": "89bP7FM-TqYp",
    "executionInfo": {
     "status": "ok",
     "timestamp": 1651839826164,
     "user_tz": -480,
     "elapsed": 383,
     "user": {
      "displayName": "Netherlands Amsterdam",
      "userId": "05899367242483819401"
     }
    },
    "outputId": "cede14b0-2665-4114-fffd-03961cb526f4",
    "pycharm": {
     "name": "#%%\n"
    }
   },
   "execution_count": 25,
   "outputs": [
    {
     "output_type": "execute_result",
     "data": {
      "text/plain": [
       "(torch.Size([2, 24255]), torch.Size([2, 3993]), torch.Size([2, 28248]))"
      ]
     },
     "metadata": {},
     "execution_count": 25
    }
   ]
  },
  {
   "cell_type": "code",
   "source": [
    "def down_sample_blk(in_channels,out_channels):\n",
    "  blk = []\n",
    "  for _ in range(2):\n",
    "    blk.append(nn.Conv2d(in_channels, out_channels,\n",
    "                             kernel_size=3, padding=1))\n",
    "    blk.append(nn.BatchNorm2d(out_channels))\n",
    "    blk.append(nn.ReLU())\n",
    "    in_channels = out_channels\n",
    "  blk.append(nn.MaxPool2d(2))\n",
    "  return nn.Sequential(*blk)"
   ],
   "metadata": {
    "id": "JV9ez7McVH3-",
    "executionInfo": {
     "status": "ok",
     "timestamp": 1651840556213,
     "user_tz": -480,
     "elapsed": 382,
     "user": {
      "displayName": "Netherlands Amsterdam",
      "userId": "05899367242483819401"
     }
    },
    "pycharm": {
     "name": "#%%\n"
    }
   },
   "execution_count": 36,
   "outputs": []
  },
  {
   "cell_type": "code",
   "source": [
    "forward(torch.zeros((2,3,20,20)),down_sample_blk(3,10)).shape"
   ],
   "metadata": {
    "colab": {
     "base_uri": "https://localhost:8080/"
    },
    "id": "bPygKv1wVp-b",
    "executionInfo": {
     "status": "ok",
     "timestamp": 1651840591263,
     "user_tz": -480,
     "elapsed": 386,
     "user": {
      "displayName": "Netherlands Amsterdam",
      "userId": "05899367242483819401"
     }
    },
    "outputId": "580b78fb-760f-4247-f451-8e0068788192",
    "pycharm": {
     "name": "#%%\n"
    }
   },
   "execution_count": 38,
   "outputs": [
    {
     "output_type": "execute_result",
     "data": {
      "text/plain": [
       "torch.Size([2, 10, 10, 10])"
      ]
     },
     "metadata": {},
     "execution_count": 38
    }
   ]
  },
  {
   "cell_type": "code",
   "source": [
    "def base_net():\n",
    "  blk =[]\n",
    "  num_filters = [3,16,32,64]\n",
    "  for i in range(len(num_filters) - 1):\n",
    "    blk.append(down_sample_blk(num_filters[i],num_filters[i+1]))\n",
    "  \n",
    "  return nn.Sequential(*blk)"
   ],
   "metadata": {
    "id": "eFYkmhe1X0bM",
    "executionInfo": {
     "status": "ok",
     "timestamp": 1651840948428,
     "user_tz": -480,
     "elapsed": 392,
     "user": {
      "displayName": "Netherlands Amsterdam",
      "userId": "05899367242483819401"
     }
    },
    "pycharm": {
     "name": "#%%\n"
    }
   },
   "execution_count": 44,
   "outputs": []
  },
  {
   "cell_type": "code",
   "source": [
    "forward(torch.zeros((2,3,256,256)),base_net()).shape"
   ],
   "metadata": {
    "colab": {
     "base_uri": "https://localhost:8080/"
    },
    "id": "iGuL_1oIYqgJ",
    "executionInfo": {
     "status": "ok",
     "timestamp": 1651840953058,
     "user_tz": -480,
     "elapsed": 1942,
     "user": {
      "displayName": "Netherlands Amsterdam",
      "userId": "05899367242483819401"
     }
    },
    "outputId": "20f181d3-d6f2-423b-ae90-1561cbb574cf",
    "pycharm": {
     "name": "#%%\n"
    }
   },
   "execution_count": 45,
   "outputs": [
    {
     "output_type": "execute_result",
     "data": {
      "text/plain": [
       "torch.Size([2, 64, 32, 32])"
      ]
     },
     "metadata": {},
     "execution_count": 45
    }
   ]
  },
  {
   "cell_type": "code",
   "source": [
    "def get_blk(i):\n",
    "  if i==0:\n",
    "    blk = base_net()\n",
    "  elif i==1:\n",
    "    blk = down_sample_blk(64,128)\n",
    "  elif i==4:\n",
    "    blk = nn.AdaptiveAvgPool2d((1,1))\n",
    "  else:\n",
    "    blk = down_sample_blk(128,128)\n",
    "  \n",
    "  return blk"
   ],
   "metadata": {
    "id": "0n1nFL3xZOtn",
    "executionInfo": {
     "status": "ok",
     "timestamp": 1651841300934,
     "user_tz": -480,
     "elapsed": 432,
     "user": {
      "displayName": "Netherlands Amsterdam",
      "userId": "05899367242483819401"
     }
    },
    "pycharm": {
     "name": "#%%\n"
    }
   },
   "execution_count": 46,
   "outputs": []
  },
  {
   "cell_type": "code",
   "source": [
    "def blk_forward(x,blk,size,ratio,cls_predictor,bbox_predictor):\n",
    "  Y = blk(x)\n",
    "  anchors = d2l.miltibox_prior(Y,sizes = size,ratios=ratio)\n",
    "  cls_preds = cls_predictor(Y)\n",
    "  bbox_preds = bbox_predictor(Y)\n",
    "\n",
    "  return (Y,anchors,cls_preds,bbox_preds)"
   ],
   "metadata": {
    "id": "dKy6hG-Eae2M",
    "executionInfo": {
     "status": "ok",
     "timestamp": 1651841532902,
     "user_tz": -480,
     "elapsed": 412,
     "user": {
      "displayName": "Netherlands Amsterdam",
      "userId": "05899367242483819401"
     }
    },
    "pycharm": {
     "name": "#%%\n"
    }
   },
   "execution_count": 49,
   "outputs": []
  },
  {
   "cell_type": "code",
   "source": [
    "sizes = [[0.2,0.272],[0.37,0.447],[0.54,0.619],[0.71,0.79],[0.88,0.961]]\n",
    "ratios = [[1,2,0.5]]\n",
    "num_anchors = len(sizes[0]) + len(ratios[0]) - 1"
   ],
   "metadata": {
    "id": "vxdrWIr2bYv1",
    "executionInfo": {
     "status": "ok",
     "timestamp": 1651841681448,
     "user_tz": -480,
     "elapsed": 623,
     "user": {
      "displayName": "Netherlands Amsterdam",
      "userId": "05899367242483819401"
     }
    },
    "pycharm": {
     "name": "#%%\n"
    }
   },
   "execution_count": 50,
   "outputs": []
  },
  {
   "cell_type": "code",
   "source": [
    "class TinySSD(nn.Module):\n",
    "  def __init__(self,num_classes,**kwargs):\n",
    "    super(TinySSD,self).__init__(**kwargs)\n",
    "    self.num_classes = num_classes\n",
    "    idx_to_in_channels = [64,128,128,128,128]\n",
    "    for i in range(len(idx_to_in_channels)):\n",
    "      setattr(self,f\"blk_{i}\",get_blk(i))\n",
    "      setattr(self,f\"cls_{i}\",cls_predictor(idx_to_in_channels[i],num_anchors,num_classes))\n",
    "      setattr(self,f\"bbox_{i}\",cls_predictor(idx_to_in_channels[i],num_anchors,num_classes))\n",
    "    \n",
    "   def forward(self, X):\n",
    "      anchors, cls_preds, bbox_preds = [None] * 5, [None] * 5, [None] * 5\n",
    "      for i in range(5):\n",
    "          # getattr(self,'blk_%d'%i)即访问self.blk_i\n",
    "           X, anchors[i], cls_preds[i], bbox_preds[i] = blk_forward(\n",
    "              X, getattr(self, f'blk_{i}'), sizes[i], ratios[i],\n",
    "              getattr(self, f'cls_{i}'), getattr(self, f'bbox_{i}'))\n",
    "      anchors = torch.cat(anchors, dim=1)\n",
    "      cls_preds = concat_pred(cls_preds)\n",
    "      cls_preds = cls_preds.reshape(\n",
    "          cls_preds.shape[0], -1, self.num_classes + 1)\n",
    "      bbox_preds = concat_pred(bbox_preds)\n",
    "      return anchors, cls_preds, bbox_preds"
   ],
   "metadata": {
    "id": "Mda7xL_ab8eq",
    "pycharm": {
     "name": "#%%\n"
    }
   },
   "execution_count": null,
   "outputs": []
  }
 ]
}