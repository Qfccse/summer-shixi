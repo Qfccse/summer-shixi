{
 "nbformat": 4,
 "nbformat_minor": 0,
 "metadata": {
  "colab": {
   "name": "数据增广.ipynb",
   "provenance": [],
   "authorship_tag": "ABX9TyM/Q3H+G4nyOVPM8NKmC5JF"
  },
  "kernelspec": {
   "name": "python3",
   "display_name": "Python 3"
  },
  "language_info": {
   "name": "python"
  }
 },
 "cells": [
  {
   "cell_type": "code",
   "execution_count": null,
   "metadata": {
    "id": "rZFkzxkp4OqW",
    "pycharm": {
     "name": "#%%\n"
    }
   },
   "outputs": [],
   "source": [
    "!pip install d2l==0.16."
   ]
  },
  {
   "cell_type": "code",
   "source": [
    "import torch\n",
    "import torchvision\n",
    "from d2l import torch as d2l\n",
    "import torch.nn as nn"
   ],
   "metadata": {
    "id": "st5SVzGD4xva",
    "executionInfo": {
     "status": "ok",
     "timestamp": 1650897076770,
     "user_tz": -480,
     "elapsed": 384,
     "user": {
      "displayName": "Netherlands Amsterdam",
      "userId": "05899367242483819401"
     }
    },
    "pycharm": {
     "name": "#%%\n"
    }
   },
   "execution_count": 12,
   "outputs": []
  },
  {
   "cell_type": "code",
   "source": [
    "# from google.colab import drive\n",
    "# drive.mount('/content/drive')\n",
    "#\n",
    "# %cd /content/drive/My Drive\n",
    "# !ls\n",
    "# %cd d2l-dataset/"
   ],
   "metadata": {
    "colab": {
     "base_uri": "https://localhost:8080/"
    },
    "id": "cvIOmqoI48U2",
    "executionInfo": {
     "status": "ok",
     "timestamp": 1650893308794,
     "user_tz": -480,
     "elapsed": 19563,
     "user": {
      "displayName": "Netherlands Amsterdam",
      "userId": "05899367242483819401"
     }
    },
    "outputId": "326e65bd-c0e4-4436-f992-db854c16e718",
    "pycharm": {
     "name": "#%%\n"
    }
   },
   "execution_count": 4,
   "outputs": [
    {
     "output_type": "stream",
     "name": "stdout",
     "text": [
      "Mounted at /content/drive\n",
      "/content/drive/My Drive\n",
      "'Colab Notebooks'   d2l-dataset   d2l-zh   data   test.ipynb\n",
      "/content/drive/My Drive/d2l-dataset\n"
     ]
    }
   ]
  },
  {
   "cell_type": "code",
   "source": [
    "all_images = torchvision.datasets.CIFAR10(train=True, root=\"../data\", download=True)\n",
    "d2l.show_images([all_images[i][0] for i in range(32)], 4, 8, scale=0.8);"
   ],
   "metadata": {
    "id": "WkW3DQ3U6Mtj",
    "pycharm": {
     "name": "#%%\n"
    }
   },
   "execution_count": null,
   "outputs": []
  },
  {
   "cell_type": "code",
   "source": [
    "train_augs = torchvision.transforms.Compose([\n",
    "                      torchvision.transforms.RandomHorizontalFlip(),\n",
    "                      torchvision.transforms.ToTensor()])\n",
    "test_augs =  torchvision.transforms.Compose([\n",
    "                      torchvision.transforms.ToTensor()])"
   ],
   "metadata": {
    "id": "T4OjAz5i66Qr",
    "executionInfo": {
     "status": "ok",
     "timestamp": 1650893739644,
     "user_tz": -480,
     "elapsed": 454,
     "user": {
      "displayName": "Netherlands Amsterdam",
      "userId": "05899367242483819401"
     }
    },
    "pycharm": {
     "name": "#%%\n"
    }
   },
   "execution_count": 6,
   "outputs": []
  },
  {
   "cell_type": "code",
   "source": [
    "def load_CIFAR10(is_train,augs,batch_size):\n",
    "  dataset = torchvision.datasets.CIFAR10(root=\"../data\", train=is_train,transform=augs, download=True)\n",
    "  dataloader = torch.utils.data.DataLoader(dataset, batch_size=batch_size,\n",
    "                    shuffle=is_train, num_workers=2)\n",
    "  return dataloader"
   ],
   "metadata": {
    "id": "XuXimXbD7zXH",
    "executionInfo": {
     "status": "ok",
     "timestamp": 1650896894535,
     "user_tz": -480,
     "elapsed": 420,
     "user": {
      "displayName": "Netherlands Amsterdam",
      "userId": "05899367242483819401"
     }
    },
    "pycharm": {
     "name": "#%%\n"
    }
   },
   "execution_count": 7,
   "outputs": []
  },
  {
   "cell_type": "code",
   "source": [
    "def train_batch(net, X, y, loss, trainer, devices):\n",
    "    \"\"\"用多GPU进行小批量训练\"\"\"\n",
    "    if isinstance(X, list):\n",
    "        # 微调BERT中所需（稍后讨论）\n",
    "        X = [x.to(devices[0]) for x in X]\n",
    "    else:\n",
    "        X = X.to(devices[0])\n",
    "    y = y.to(devices[0])\n",
    "    net.train()\n",
    "    trainer.zero_grad()\n",
    "    pred = net(X)\n",
    "    l = loss(pred, y)\n",
    "    l.sum().backward()\n",
    "    trainer.step()\n",
    "    train_loss_sum = l.sum()\n",
    "    train_acc_sum = d2l.accuracy(pred, y)\n",
    "    return train_loss_sum, train_acc_sum"
   ],
   "metadata": {
    "id": "JRu1nnt-8g1u",
    "executionInfo": {
     "status": "ok",
     "timestamp": 1650897398251,
     "user_tz": -480,
     "elapsed": 387,
     "user": {
      "displayName": "Netherlands Amsterdam",
      "userId": "05899367242483819401"
     }
    },
    "pycharm": {
     "name": "#%%\n"
    }
   },
   "execution_count": 17,
   "outputs": []
  },
  {
   "cell_type": "code",
   "source": [
    "def train(net, train_iter, test_iter, loss, trainer, num_epochs,\n",
    "               devices=d2l.try_all_gpus()):\n",
    "    \"\"\"用多GPU进行模型训练\"\"\"\n",
    "    timer, num_batches = d2l.Timer(), len(train_iter)\n",
    "    animator = d2l.Animator(xlabel='epoch', xlim=[1, num_epochs], ylim=[0, 1],\n",
    "                            legend=['train loss', 'train acc', 'test acc'])\n",
    "    net = nn.DataParallel(net, device_ids=devices).to(devices[0])\n",
    "    for epoch in range(num_epochs):\n",
    "        # 4个维度：储存训练损失，训练准确度，实例数，特点数\n",
    "        metric = d2l.Accumulator(4)\n",
    "        for i, (features, labels) in enumerate(train_iter):\n",
    "            timer.start()\n",
    "            l, acc = train_batch(\n",
    "                net, features, labels, loss, trainer, devices)\n",
    "            metric.add(l, acc, labels.shape[0], labels.numel())\n",
    "            timer.stop()\n",
    "            if (i + 1) % (num_batches // 5) == 0 or i == num_batches - 1:\n",
    "                animator.add(epoch + (i + 1) / num_batches,\n",
    "                             (metric[0] / metric[2], metric[1] / metric[3],\n",
    "                              None))\n",
    "        test_acc = d2l.evaluate_accuracy_gpu(net, test_iter)\n",
    "        animator.add(epoch + 1, (None, None, test_acc))\n",
    "    print(f'loss {metric[0] / metric[2]:.3f}, train acc '\n",
    "          f'{metric[1] / metric[3]:.3f}, test acc {test_acc:.3f}')\n",
    "    print(f'{metric[2] * num_epochs / timer.sum():.1f} examples/sec on '\n",
    "          f'{str(devices)}')\n"
   ],
   "metadata": {
    "id": "iAOi2UM1AIm1",
    "executionInfo": {
     "status": "ok",
     "timestamp": 1650897420311,
     "user_tz": -480,
     "elapsed": 457,
     "user": {
      "displayName": "Netherlands Amsterdam",
      "userId": "05899367242483819401"
     }
    },
    "pycharm": {
     "name": "#%%\n"
    }
   },
   "execution_count": 18,
   "outputs": []
  },
  {
   "cell_type": "code",
   "source": [
    "batch_size,devices,net = 256,d2l.try_all_gpus(),d2l.resnet18(10,3)"
   ],
   "metadata": {
    "id": "96km2XjCDZUt",
    "executionInfo": {
     "status": "ok",
     "timestamp": 1650897424578,
     "user_tz": -480,
     "elapsed": 417,
     "user": {
      "displayName": "Netherlands Amsterdam",
      "userId": "05899367242483819401"
     }
    },
    "pycharm": {
     "name": "#%%\n"
    }
   },
   "execution_count": 19,
   "outputs": []
  },
  {
   "cell_type": "code",
   "source": [
    "def init_weights(m):\n",
    "  if type(m) in [nn.Linear,nn.Conv2d]:\n",
    "    nn.init.xavier_uniform_(m.weight)\n",
    "\n",
    "net.apply(init_weights)\n",
    "def train_with_data_aug(train_augs, test_augs, net, lr=0.001):\n",
    "    train_iter = load_CIFAR10(True, train_augs, batch_size)\n",
    "    test_iter = load_CIFAR10(False, test_augs, batch_size)\n",
    "    loss = nn.CrossEntropyLoss(reduction=\"none\")\n",
    "    trainer = torch.optim.Adam(net.parameters(), lr=lr)\n",
    "    train(net, train_iter, test_iter, loss, trainer, 10, devices)\n"
   ],
   "metadata": {
    "id": "U-gZpZe1ELXI",
    "executionInfo": {
     "status": "ok",
     "timestamp": 1650897427373,
     "user_tz": -480,
     "elapsed": 5,
     "user": {
      "displayName": "Netherlands Amsterdam",
      "userId": "05899367242483819401"
     }
    },
    "pycharm": {
     "name": "#%%\n"
    }
   },
   "execution_count": 20,
   "outputs": []
  },
  {
   "cell_type": "code",
   "source": [
    "train_with_data_aug(train_augs,test_augs,net)"
   ],
   "metadata": {
    "colab": {
     "base_uri": "https://localhost:8080/"
    },
    "id": "6-7FBO-IBhDl",
    "outputId": "b6994e3f-6732-4817-e25e-57aadb1254cb",
    "pycharm": {
     "name": "#%%\n"
    }
   },
   "execution_count": null,
   "outputs": [
    {
     "output_type": "stream",
     "name": "stdout",
     "text": [
      "Files already downloaded and verified\n",
      "Files already downloaded and verified\n"
     ]
    }
   ]
  }
 ]
}