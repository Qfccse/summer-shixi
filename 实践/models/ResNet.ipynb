{
 "nbformat": 4,
 "nbformat_minor": 0,
 "metadata": {
  "colab": {
   "name": "ResNet.ipynb",
   "provenance": [],
   "authorship_tag": "ABX9TyPfJPL2ro9RqTsvPlzpvUlD"
  },
  "kernelspec": {
   "name": "python3",
   "display_name": "Python 3"
  },
  "language_info": {
   "name": "python"
  }
 },
 "cells": [
  {
   "cell_type": "code",
   "execution_count": 6,
   "metadata": {
    "id": "YDrDVDaZN1Lk",
    "executionInfo": {
     "status": "ok",
     "timestamp": 1650765697427,
     "user_tz": -480,
     "elapsed": 396,
     "user": {
      "displayName": "Netherlands Amsterdam",
      "userId": "05899367242483819401"
     }
    },
    "pycharm": {
     "name": "#%%\n"
    }
   },
   "outputs": [],
   "source": [
    "import torch\n",
    "from torch import nn\n",
    "from torch.nn import functional as F"
   ]
  },
  {
   "cell_type": "code",
   "source": [
    "class Residual(nn.Module):\n",
    "  def __init__(self,in_channels,num_channels,conv_1x1=False,strides=1):\n",
    "    super().__init__()\n",
    "    self.conv1 = nn.Conv2d(in_channels,num_channels,kernel_size=3,padding=1,stride=strides)\n",
    "    self.conv2 = nn.Conv2d(num_channels,num_channels,kernel_size=3,padding=1)\n",
    "    if conv_1x1 == True:\n",
    "      self.conv3 = nn.Conv2d(in_channels,num_channels,kernel_size=1,stride= strides)\n",
    "    else:\n",
    "      self.conv3 = None\n",
    "    self.bn1 = nn.BatchNorm2d(num_channels)\n",
    "    self.bn2 = nn.BatchNorm2d(num_channels)\n",
    "\n",
    "  def forward(self,x):\n",
    "    y = F.relu(self.bn1(self.conv1(x)))\n",
    "    y = self.bn2(self.conv2(y))\n",
    "\n",
    "    if self.conv3 != None:\n",
    "      x = self.conv3(x)\n",
    "    y += x\n",
    "\n",
    "    return F.relu(y)\n"
   ],
   "metadata": {
    "id": "XygW4VRfN7u3",
    "executionInfo": {
     "status": "ok",
     "timestamp": 1650766141429,
     "user_tz": -480,
     "elapsed": 557,
     "user": {
      "displayName": "Netherlands Amsterdam",
      "userId": "05899367242483819401"
     }
    },
    "pycharm": {
     "name": "#%%\n"
    }
   },
   "execution_count": 17,
   "outputs": []
  },
  {
   "cell_type": "code",
   "source": [
    "blk = Residual(3,3,conv_1x1=True,strides=2)\n",
    "X = torch.rand(4, 3, 6, 6)\n",
    "Y = blk(X)\n",
    "Y.shape"
   ],
   "metadata": {
    "colab": {
     "base_uri": "https://localhost:8080/"
    },
    "id": "0SN0UycTS3Go",
    "executionInfo": {
     "status": "ok",
     "timestamp": 1650766158823,
     "user_tz": -480,
     "elapsed": 444,
     "user": {
      "displayName": "Netherlands Amsterdam",
      "userId": "05899367242483819401"
     }
    },
    "outputId": "a6095fee-55f1-41be-9844-33a1bd764bd2",
    "pycharm": {
     "name": "#%%\n"
    }
   },
   "execution_count": 18,
   "outputs": [
    {
     "output_type": "execute_result",
     "data": {
      "text/plain": [
       "torch.Size([4, 3, 3, 3])"
      ]
     },
     "metadata": {},
     "execution_count": 18
    }
   ]
  },
  {
   "cell_type": "code",
   "source": [
    "b1=nn.Sequential(nn.Conv2d(1,64,kernel_size=7,stride=2,padding=3),\n",
    "         nn.BatchNorm2d(64),\n",
    "         nn.MaxPool2d(kernel_size=3,stride=2,padding=1))\n",
    "\n",
    "def resnetblk(input_channels, num_channels, num_residuals,\n",
    "                 first_block=False):\n",
    "    blk = []\n",
    "    for i in range(num_residuals):\n",
    "        if i == 0 and not first_block:\n",
    "            blk.append(Residual(input_channels, num_channels,\n",
    "                                conv_1x1=True, strides=2))\n",
    "        else:\n",
    "            blk.append(Residual(num_channels, num_channels))\n",
    "    return blk"
   ],
   "metadata": {
    "id": "f7P2bj9AVQug",
    "executionInfo": {
     "status": "ok",
     "timestamp": 1650767478009,
     "user_tz": -480,
     "elapsed": 502,
     "user": {
      "displayName": "Netherlands Amsterdam",
      "userId": "05899367242483819401"
     }
    },
    "pycharm": {
     "name": "#%%\n"
    }
   },
   "execution_count": 33,
   "outputs": []
  },
  {
   "cell_type": "code",
   "source": [
    "b2=nn.Sequential(*resnetblk(64,64,2,first_block=True))\n",
    "b3=nn.Sequential(*resnetblk(64,128,2))\n",
    "b4=nn.Sequential(*resnetblk(128,256,2))\n",
    "b5=nn.Sequential(*resnetblk(256,512,2))"
   ],
   "metadata": {
    "id": "ui01tAA6X-6v",
    "executionInfo": {
     "status": "ok",
     "timestamp": 1650767480475,
     "user_tz": -480,
     "elapsed": 5,
     "user": {
      "displayName": "Netherlands Amsterdam",
      "userId": "05899367242483819401"
     }
    },
    "pycharm": {
     "name": "#%%\n"
    }
   },
   "execution_count": 34,
   "outputs": []
  },
  {
   "cell_type": "code",
   "source": [
    "resnet = nn.Sequential(b1,b2,b3,b4,b5,\n",
    "            nn.AdaptiveAvgPool2d((1,1)),\n",
    "            nn.Flatten(),\n",
    "            nn.Linear(512,10))"
   ],
   "metadata": {
    "id": "64Y_wiP3Yx_3",
    "executionInfo": {
     "status": "ok",
     "timestamp": 1650767533097,
     "user_tz": -480,
     "elapsed": 397,
     "user": {
      "displayName": "Netherlands Amsterdam",
      "userId": "05899367242483819401"
     }
    },
    "pycharm": {
     "name": "#%%\n"
    }
   },
   "execution_count": 38,
   "outputs": []
  },
  {
   "cell_type": "code",
   "source": [
    "X = torch.rand(size=(1, 1, 224, 224))\n",
    "for layer in resnet:\n",
    "    X = layer(X)\n",
    "    print(layer.__class__.__name__,'output shape:\\t', X.shape)"
   ],
   "metadata": {
    "colab": {
     "base_uri": "https://localhost:8080/"
    },
    "id": "ejwxl31AYXN1",
    "executionInfo": {
     "status": "ok",
     "timestamp": 1650768186634,
     "user_tz": -480,
     "elapsed": 407,
     "user": {
      "displayName": "Netherlands Amsterdam",
      "userId": "05899367242483819401"
     }
    },
    "outputId": "2bf7ca2a-f092-417c-ebf9-499a67d6a86b",
    "pycharm": {
     "name": "#%%\n"
    }
   },
   "execution_count": 41,
   "outputs": [
    {
     "output_type": "stream",
     "name": "stdout",
     "text": [
      "Sequential output shape:\t torch.Size([1, 64, 56, 56])\n",
      "Sequential output shape:\t torch.Size([1, 64, 56, 56])\n",
      "Sequential output shape:\t torch.Size([1, 128, 28, 28])\n",
      "Sequential output shape:\t torch.Size([1, 256, 14, 14])\n",
      "Sequential output shape:\t torch.Size([1, 512, 7, 7])\n",
      "AdaptiveAvgPool2d output shape:\t torch.Size([1, 512, 1, 1])\n",
      "Flatten output shape:\t torch.Size([1, 512])\n",
      "Linear output shape:\t torch.Size([1, 10])\n"
     ]
    }
   ]
  }
 ]
}