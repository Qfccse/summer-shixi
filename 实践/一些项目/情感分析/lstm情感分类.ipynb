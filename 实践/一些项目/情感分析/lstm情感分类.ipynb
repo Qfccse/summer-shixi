{
 "cells": [
  {
   "cell_type": "code",
   "execution_count": 58,
   "metadata": {
    "collapsed": true,
    "pycharm": {
     "name": "#%%\n"
    }
   },
   "outputs": [],
   "source": [
    "# import numpy as np\n",
    "# import pandas as pd\n",
    "# df = pd.read_csv(\"../../datasets/情感分析/train.txt\",delimiter=\";\",names=['sentence','label'])\n",
    "# df.to_csv(\"train.csv\", encoding='utf-8', index=False)\n"
   ]
  },
  {
   "cell_type": "code",
   "execution_count": 59,
   "outputs": [
    {
     "data": {
      "text/plain": "                                            sentence     label\n0                            i didnt feel humiliated   sadness\n1  i can go from feeling so hopeless to so damned...   sadness\n2   im grabbing a minute to post i feel greedy wrong     anger\n3  i am ever feeling nostalgic about the fireplac...      love\n4                               i am feeling grouchy     anger\n5  ive been feeling a little burdened lately wasn...   sadness\n6  ive been taking or milligrams or times recomme...  surprise\n7  i feel as confused about life as a teenager or...      fear\n8  i have been with petronas for years i feel tha...       joy\n9                                i feel romantic too      love",
      "text/html": "<div>\n<style scoped>\n    .dataframe tbody tr th:only-of-type {\n        vertical-align: middle;\n    }\n\n    .dataframe tbody tr th {\n        vertical-align: top;\n    }\n\n    .dataframe thead th {\n        text-align: right;\n    }\n</style>\n<table border=\"1\" class=\"dataframe\">\n  <thead>\n    <tr style=\"text-align: right;\">\n      <th></th>\n      <th>sentence</th>\n      <th>label</th>\n    </tr>\n  </thead>\n  <tbody>\n    <tr>\n      <th>0</th>\n      <td>i didnt feel humiliated</td>\n      <td>sadness</td>\n    </tr>\n    <tr>\n      <th>1</th>\n      <td>i can go from feeling so hopeless to so damned...</td>\n      <td>sadness</td>\n    </tr>\n    <tr>\n      <th>2</th>\n      <td>im grabbing a minute to post i feel greedy wrong</td>\n      <td>anger</td>\n    </tr>\n    <tr>\n      <th>3</th>\n      <td>i am ever feeling nostalgic about the fireplac...</td>\n      <td>love</td>\n    </tr>\n    <tr>\n      <th>4</th>\n      <td>i am feeling grouchy</td>\n      <td>anger</td>\n    </tr>\n    <tr>\n      <th>5</th>\n      <td>ive been feeling a little burdened lately wasn...</td>\n      <td>sadness</td>\n    </tr>\n    <tr>\n      <th>6</th>\n      <td>ive been taking or milligrams or times recomme...</td>\n      <td>surprise</td>\n    </tr>\n    <tr>\n      <th>7</th>\n      <td>i feel as confused about life as a teenager or...</td>\n      <td>fear</td>\n    </tr>\n    <tr>\n      <th>8</th>\n      <td>i have been with petronas for years i feel tha...</td>\n      <td>joy</td>\n    </tr>\n    <tr>\n      <th>9</th>\n      <td>i feel romantic too</td>\n      <td>love</td>\n    </tr>\n  </tbody>\n</table>\n</div>"
     },
     "execution_count": 59,
     "metadata": {},
     "output_type": "execute_result"
    }
   ],
   "source": [
    "import numpy as np\n",
    "import pandas as pd\n",
    "df = pd.read_csv('train.csv')\n",
    "df.head(10)"
   ],
   "metadata": {
    "collapsed": false,
    "pycharm": {
     "name": "#%%\n"
    }
   }
  },
  {
   "cell_type": "code",
   "execution_count": 60,
   "outputs": [
    {
     "name": "stdout",
     "output_type": "stream",
     "text": [
      "(16000, 2)\n",
      "sentence    0\n",
      "label       0\n",
      "dtype: int64\n"
     ]
    }
   ],
   "source": [
    "print(df.shape)\n",
    "print(df.isnull().sum())   # 检查空值"
   ],
   "metadata": {
    "collapsed": false,
    "pycharm": {
     "name": "#%%\n"
    }
   }
  },
  {
   "cell_type": "code",
   "execution_count": 61,
   "outputs": [],
   "source": [
    "# 需要映入的库\n",
    "import pandas as pd\n",
    "from bs4 import BeautifulSoup\n",
    "import re\n",
    "import nltk\n",
    "from nltk.corpus import stopwords\n",
    "from nltk.stem import WordNetLemmatizer"
   ],
   "metadata": {
    "collapsed": false,
    "pycharm": {
     "name": "#%%\n"
    }
   }
  },
  {
   "cell_type": "code",
   "execution_count": 62,
   "outputs": [],
   "source": [
    "def review_to_words(raw_review):\n",
    "    # 通过BeautifulSoup抽取纯文本\n",
    "    review_text = BeautifulSoup(raw_review).get_text()\n",
    "    # 通过正则表达式去掉标点符号\n",
    "    letters_only = re.sub(\"[^a-zA-Z]\", \" \", review_text)\n",
    "    # 转化为小写，并进行分词\n",
    "    words = letters_only.lower().split()\n",
    "    # 去停用词\n",
    "    stops = set(stopwords.words(\"english\"))\n",
    "    meaningful_words = [w for w in words if w not in stops]\n",
    "\n",
    "    # print(meaningful_words)\n",
    "    # 还原词性\n",
    "    lemmatizer = WordNetLemmatizer()\n",
    "    r_words = [lemmatizer.lemmatize(w) for w in  meaningful_words]\n",
    "\n",
    "    # 将处理后的数据返回\n",
    "    cleaned_review = \" \".join(r_words)\n",
    "    return cleaned_review\n"
   ],
   "metadata": {
    "collapsed": false,
    "pycharm": {
     "name": "#%%\n"
    }
   }
  },
  {
   "cell_type": "code",
   "execution_count": 63,
   "outputs": [
    {
     "name": "stdout",
     "output_type": "stream",
     "text": [
      "didnt feel humiliated\n"
     ]
    }
   ],
   "source": [
    "clean_review = review_to_words(df[\"sentence\"][0])\n",
    "print(clean_review)"
   ],
   "metadata": {
    "collapsed": false,
    "pycharm": {
     "name": "#%%\n"
    }
   }
  },
  {
   "cell_type": "code",
   "execution_count": 64,
   "outputs": [],
   "source": [
    "# import re\n",
    "# import string\n",
    "# \"\"\"\n",
    "# 移除网址，$数字$, 数字， 标点符号\n",
    "# \"\"\"\n",
    "# def remove_hyperlinks(text):\n",
    "#     sentence = re.sub(r'www?:\\/\\/.*[\\r\\n]*', '', text)\n",
    "#     sentence = re.sub(r'http?:\\/\\/.*[\\r\\n]*', '', sentence)\n",
    "#     return re.sub(r'https?:\\/\\/.*[\\r\\n]*', '', sentence)\n",
    "#\n",
    "# def remove_currencies(text):\n",
    "#     return re.sub(r'[\\$\\d+\\d+\\$]', '', text)\n",
    "#\n",
    "# def remove_number(text):\n",
    "#     return re.sub(r'\\d+', '', text)\n",
    "#\n",
    "# def remove_punctuation(text):\n",
    "#     return ''.join([word for word in text if word not in string.punctuation])\n",
    "#\n",
    "# df['sentence'] = df['sentence'].apply(lambda x: remove_hyperlinks(x.lower()))\n",
    "# df['sentence'] = df['sentence'].apply(lambda x: remove_currencies(x))\n",
    "# df['sentence'] = df['sentence'].apply(lambda x: remove_number(x))\n",
    "# df.head(10)"
   ],
   "metadata": {
    "collapsed": false,
    "pycharm": {
     "name": "#%%\n"
    }
   }
  },
  {
   "cell_type": "code",
   "execution_count": 65,
   "outputs": [],
   "source": [
    "# import nltk\n",
    "# from nltk.corpus import stopwords\n",
    "# stopword = stopwords.words('english')\n",
    "# print(stopword)\n",
    "# def remove_stopword(text):\n",
    "#     return [word for word in text if word not in stopword]\n",
    "#\n",
    "# df['sentence'] = df['sentence'].apply(lambda x: remove_stopword(x))\n",
    "# df.head(10)\n",
    "# from nltk.stem import WordNetLemmatizer\n",
    "# nltk.download('wordnet')\n",
    "# nltk.download('omw-1.4')\n",
    "# # 把一些名词的词性还原 如 cars-->car\n",
    "# lemmatizer = WordNetLemmatizer()\n",
    "# def lemmatize(text):\n",
    "#     return ' '.join([lemmatizer.lemmatize(word) for word in text])\n",
    "#\n",
    "# df['sentence'] = df['sentence'].apply(lambda x: lemmatize(x))\n",
    "# df.head(10)\n"
   ],
   "metadata": {
    "collapsed": false,
    "pycharm": {
     "name": "#%%\n"
    }
   }
  },
  {
   "cell_type": "markdown",
   "source": [
    "出现报错 partially initialized module 'nltk' has no attribute 'data' (most likely due to a circular import)\n",
    "解决方案 https://www.cnblogs.com/LHWorldBlog/p/9641374.html"
   ],
   "metadata": {
    "collapsed": false,
    "pycharm": {
     "name": "#%% md\n"
    }
   }
  },
  {
   "cell_type": "code",
   "execution_count": 66,
   "outputs": [
    {
     "name": "stdout",
     "output_type": "stream",
     "text": [
      "Cleaning and parsing the training set movie reviews...\n",
      "\n",
      "Review 1000 of 16000 \n",
      "\n",
      "Review 2000 of 16000 \n",
      "\n",
      "Review 3000 of 16000 \n",
      "\n",
      "Review 4000 of 16000 \n",
      "\n",
      "Review 5000 of 16000 \n",
      "\n",
      "Review 6000 of 16000 \n",
      "\n",
      "Review 7000 of 16000 \n",
      "\n",
      "Review 8000 of 16000 \n",
      "\n",
      "Review 9000 of 16000 \n",
      "\n",
      "Review 10000 of 16000 \n",
      "\n",
      "Review 11000 of 16000 \n",
      "\n",
      "Review 12000 of 16000 \n",
      "\n",
      "Review 13000 of 16000 \n",
      "\n",
      "Review 14000 of 16000 \n",
      "\n",
      "Review 15000 of 16000 \n",
      "\n",
      "Review 16000 of 16000 \n",
      "\n"
     ]
    },
    {
     "data": {
      "text/plain": "['didnt feel humiliated',\n 'go feeling hopeless damned hopeful around someone care awake',\n 'im grabbing minute post feel greedy wrong',\n 'ever feeling nostalgic fireplace know still property',\n 'feeling grouchy']"
     },
     "execution_count": 66,
     "metadata": {},
     "output_type": "execute_result"
    }
   ],
   "source": [
    "num_reviews=len(df)\n",
    "# 对数据进行清洗\n",
    "clean_train_reviews=[]\n",
    "print(\"Cleaning and parsing the training set movie reviews...\\n\")\n",
    "for i in range(0,num_reviews):\n",
    "    if((i+1)%1000 == 0):\n",
    "        print(\"Review %d of %d \\n\" % (i+1, num_reviews))\n",
    "    temp_review=review_to_words(df[\"sentence\"][i])\n",
    "    clean_train_reviews.append(temp_review)\n",
    "clean_train_reviews[:5]"
   ],
   "metadata": {
    "collapsed": false,
    "pycharm": {
     "name": "#%%\n"
    }
   }
  },
  {
   "cell_type": "code",
   "execution_count": 67,
   "outputs": [],
   "source": [
    "df['sentence'] = clean_train_reviews"
   ],
   "metadata": {
    "collapsed": false,
    "pycharm": {
     "name": "#%%\n"
    }
   }
  },
  {
   "cell_type": "code",
   "execution_count": 68,
   "outputs": [
    {
     "data": {
      "text/plain": "                                            sentence     label\n0                              didnt feel humiliated   sadness\n1  go feeling hopeless damned hopeful around some...   sadness\n2          im grabbing minute post feel greedy wrong     anger\n3  ever feeling nostalgic fireplace know still pr...      love\n4                                    feeling grouchy     anger\n5      ive feeling little burdened lately wasnt sure   sadness\n6  ive taking milligram time recommended amount i...  surprise\n7     feel confused life teenager jaded year old man      fear\n8  petronas year feel petronas performed well mad...       joy\n9                                      feel romantic      love",
      "text/html": "<div>\n<style scoped>\n    .dataframe tbody tr th:only-of-type {\n        vertical-align: middle;\n    }\n\n    .dataframe tbody tr th {\n        vertical-align: top;\n    }\n\n    .dataframe thead th {\n        text-align: right;\n    }\n</style>\n<table border=\"1\" class=\"dataframe\">\n  <thead>\n    <tr style=\"text-align: right;\">\n      <th></th>\n      <th>sentence</th>\n      <th>label</th>\n    </tr>\n  </thead>\n  <tbody>\n    <tr>\n      <th>0</th>\n      <td>didnt feel humiliated</td>\n      <td>sadness</td>\n    </tr>\n    <tr>\n      <th>1</th>\n      <td>go feeling hopeless damned hopeful around some...</td>\n      <td>sadness</td>\n    </tr>\n    <tr>\n      <th>2</th>\n      <td>im grabbing minute post feel greedy wrong</td>\n      <td>anger</td>\n    </tr>\n    <tr>\n      <th>3</th>\n      <td>ever feeling nostalgic fireplace know still pr...</td>\n      <td>love</td>\n    </tr>\n    <tr>\n      <th>4</th>\n      <td>feeling grouchy</td>\n      <td>anger</td>\n    </tr>\n    <tr>\n      <th>5</th>\n      <td>ive feeling little burdened lately wasnt sure</td>\n      <td>sadness</td>\n    </tr>\n    <tr>\n      <th>6</th>\n      <td>ive taking milligram time recommended amount i...</td>\n      <td>surprise</td>\n    </tr>\n    <tr>\n      <th>7</th>\n      <td>feel confused life teenager jaded year old man</td>\n      <td>fear</td>\n    </tr>\n    <tr>\n      <th>8</th>\n      <td>petronas year feel petronas performed well mad...</td>\n      <td>joy</td>\n    </tr>\n    <tr>\n      <th>9</th>\n      <td>feel romantic</td>\n      <td>love</td>\n    </tr>\n  </tbody>\n</table>\n</div>"
     },
     "execution_count": 68,
     "metadata": {},
     "output_type": "execute_result"
    }
   ],
   "source": [
    "df.head(10)"
   ],
   "metadata": {
    "collapsed": false,
    "pycharm": {
     "name": "#%%\n"
    }
   }
  },
  {
   "cell_type": "code",
   "execution_count": 69,
   "outputs": [],
   "source": [
    "# 获取类别\n",
    "category = df[\"label\"].unique().tolist()"
   ],
   "metadata": {
    "collapsed": false,
    "pycharm": {
     "name": "#%%\n"
    }
   }
  },
  {
   "cell_type": "code",
   "execution_count": 70,
   "outputs": [],
   "source": [
    "sentence = df['sentence'].values\n",
    "label = df[\"label\"].apply(lambda x: category.index(x)).values"
   ],
   "metadata": {
    "collapsed": false,
    "pycharm": {
     "name": "#%%\n"
    }
   }
  },
  {
   "cell_type": "code",
   "execution_count": 71,
   "outputs": [],
   "source": [
    "# 获取所有不重复的单词\n",
    "words = [word.lower() for s in sentence for word in s.split(\" \")]\n",
    "various_words = list(set(words))"
   ],
   "metadata": {
    "collapsed": false,
    "pycharm": {
     "name": "#%%\n"
    }
   }
  },
  {
   "cell_type": "code",
   "execution_count": 72,
   "outputs": [],
   "source": [
    "int2word = dict(enumerate(various_words))  # 索引到单词\n",
    "word2int = {w:int(i) for i,w in int2word.items()} # 单词到索引"
   ],
   "metadata": {
    "collapsed": false,
    "pycharm": {
     "name": "#%%\n"
    }
   }
  },
  {
   "cell_type": "code",
   "execution_count": 73,
   "outputs": [
    {
     "data": {
      "text/plain": "Counter({0: 4666, 1: 2159, 2: 1304, 3: 572, 4: 1937, 5: 5362})"
     },
     "execution_count": 73,
     "metadata": {},
     "output_type": "execute_result"
    }
   ],
   "source": [
    "from collections import Counter\n",
    "Counter(label)"
   ],
   "metadata": {
    "collapsed": false,
    "pycharm": {
     "name": "#%%\n"
    }
   }
  },
  {
   "cell_type": "code",
   "execution_count": 74,
   "outputs": [],
   "source": [
    "sentence_length = [len(s.split()) for s in sentence]   # 每个句子单词的个数\n",
    "counts = dict(Counter(sentence_length))"
   ],
   "metadata": {
    "collapsed": false,
    "pycharm": {
     "name": "#%%\n"
    }
   }
  },
  {
   "cell_type": "code",
   "execution_count": 75,
   "outputs": [
    {
     "data": {
      "text/plain": "<Figure size 1152x360 with 1 Axes>",
      "image/png": "[encoded data removed]"
     },
     "metadata": {
      "needs_background": "light"
     },
     "output_type": "display_data"
    }
   ],
   "source": [
    "import matplotlib.pyplot as plt\n",
    "plt.figure(figsize=(16,5))\n",
    "plt.bar(counts.keys(),counts.values())\n",
    "plt.xlabel(\"sentence_length\")\n",
    "plt.ylabel(\"num\")\n",
    "plt.show()"
   ],
   "metadata": {
    "collapsed": false,
    "pycharm": {
     "name": "#%%\n"
    }
   }
  },
  {
   "cell_type": "code",
   "execution_count": 76,
   "outputs": [
    {
     "name": "stdout",
     "output_type": "stream",
     "text": [
      "min:(1, 8), max:(35, 2)\n"
     ]
    }
   ],
   "source": [
    "min_sen = min(counts.items())\n",
    "max_sen = max(counts.items())\n",
    "print(\"min:{}, max:{}\".format(min_sen,max_sen))"
   ],
   "metadata": {
    "collapsed": false,
    "pycharm": {
     "name": "#%%\n"
    }
   }
  },
  {
   "cell_type": "code",
   "execution_count": 77,
   "outputs": [],
   "source": [
    "\"\"\"\n",
    "    获取最小和最大长度的句子的索引\n",
    "\"\"\"\n",
    "min_index = [i for i,length in enumerate(sentence_length) if length==min_sen[0]]\n",
    "max_index = [i for i,length in enumerate(sentence_length) if length==max_sen[0]]"
   ],
   "metadata": {
    "collapsed": false,
    "pycharm": {
     "name": "#%%\n"
    }
   }
  },
  {
   "cell_type": "code",
   "execution_count": 78,
   "outputs": [
    {
     "name": "stdout",
     "output_type": "stream",
     "text": [
      "原始文本数量： 15992\n",
      "新文本数量:  15990\n"
     ]
    }
   ],
   "source": [
    "new_text = np.delete(sentence, min_index)\n",
    "new_text2 = np.delete(new_text, max_index)\n",
    "print(\"原始文本数量：\",len(new_text))\n",
    "print(\"新文本数量: \", len(new_text2))"
   ],
   "metadata": {
    "collapsed": false,
    "pycharm": {
     "name": "#%%\n"
    }
   }
  },
  {
   "cell_type": "code",
   "execution_count": 79,
   "outputs": [
    {
     "name": "stdout",
     "output_type": "stream",
     "text": [
      "原始标签数量： 15992\n",
      "新标签数量:  15990\n"
     ]
    }
   ],
   "source": [
    "new_labels = np.delete(label, min_index)\n",
    "new_labels = np.delete(new_labels, max_index)\n",
    "print(\"原始标签数量：\",len(new_text))\n",
    "print(\"新标签数量: \", len(new_text2))"
   ],
   "metadata": {
    "collapsed": false,
    "pycharm": {
     "name": "#%%\n"
    }
   }
  },
  {
   "cell_type": "code",
   "execution_count": 80,
   "outputs": [],
   "source": [
    "text2ints = []\n",
    "for sentence in new_text2:\n",
    "    sample = list()\n",
    "    for word in sentence.split():\n",
    "        int_value = word2int[word]\n",
    "        sample.append(int_value)\n",
    "    text2ints.append(sample)"
   ],
   "metadata": {
    "collapsed": false,
    "pycharm": {
     "name": "#%%\n"
    }
   }
  },
  {
   "cell_type": "code",
   "execution_count": 81,
   "outputs": [
    {
     "data": {
      "text/plain": "[[4462, 12249, 3478],\n [12895, 8576, 10651, 12549, 9685, 6183, 6867, 11221, 507],\n [8103, 8820, 5447, 711, 12249, 2056, 1117],\n [10354, 8576, 13471, 9298, 841, 4074, 10742],\n [8576, 2381]]"
     },
     "execution_count": 81,
     "metadata": {},
     "output_type": "execute_result"
    }
   ],
   "source": [
    "text2ints[:5]"
   ],
   "metadata": {
    "collapsed": false,
    "pycharm": {
     "name": "#%%\n"
    }
   }
  },
  {
   "cell_type": "code",
   "execution_count": 83,
   "outputs": [
    {
     "data": {
      "text/plain": "array([[ 4462., 12249.,  3478., ...,     0.,     0.,     0.],\n       [12895.,  8576., 10651., ...,     0.,     0.,     0.],\n       [ 8103.,  8820.,  5447., ...,     0.,     0.,     0.],\n       ...,\n       [12249.,  9863.,  6274., ...,     0.,     0.,     0.],\n       [12249.,  1214.,  4355., ...,     0.,     0.,     0.],\n       [  841., 11879., 12249., ...,     0.,     0.,     0.]])"
     },
     "execution_count": 83,
     "metadata": {},
     "output_type": "execute_result"
    }
   ],
   "source": [
    "def reset_text(text, seq_len):\n",
    "    dataset = np.zeros((len(text),seq_len))\n",
    "    for index,sentence in enumerate(text):\n",
    "        if len(sentence) < seq_len:\n",
    "            dataset[index, :len(sentence)] = sentence  # 后面填充0\n",
    "        else:\n",
    "            dataset[index, :] = sentence[:seq_len]  # 截断\n",
    "    return dataset\n",
    "\n",
    "dataset = reset_text(text2ints, seq_len=22)\n",
    "dataset"
   ],
   "metadata": {
    "collapsed": false,
    "pycharm": {
     "name": "#%%\n"
    }
   }
  },
  {
   "cell_type": "code",
   "execution_count": 84,
   "outputs": [
    {
     "name": "stdout",
     "output_type": "stream",
     "text": [
      "<class 'torch.Tensor'> <class 'torch.Tensor'>\n"
     ]
    }
   ],
   "source": [
    "import torch\n",
    "import torch.nn as nn\n",
    "## 转化为张量\n",
    "dataset_tensor = torch.from_numpy(dataset)\n",
    "label_tensor = torch.from_numpy(new_labels)\n",
    "print(type(dataset_tensor), type(label_tensor))"
   ],
   "metadata": {
    "collapsed": false,
    "pycharm": {
     "name": "#%%\n"
    }
   }
  },
  {
   "cell_type": "code",
   "execution_count": 107,
   "outputs": [
    {
     "name": "stdout",
     "output_type": "stream",
     "text": [
      "训练集:torch.Size([12792, 22])----torch.Size([12792])\n",
      "验证集:torch.Size([3198, 22])----torch.Size([3198])\n"
     ]
    }
   ],
   "source": [
    "all_samples = len(dataset_tensor)\n",
    "train_ratio = 0.8\n",
    "val_ratio = 0.2\n",
    "train = dataset_tensor[:int(train_ratio*all_samples)]\n",
    "train_labels = label_tensor[:int(train_ratio*all_samples)]\n",
    "\n",
    "val = dataset_tensor[int(train_ratio*all_samples):]\n",
    "val_labels = label_tensor[int(train_ratio*all_samples):]\n",
    "\n",
    "print(\"训练集:{}----{}\".format(train.shape, train_labels.shape))\n",
    "\n",
    "print(\"验证集:{}----{}\".format(val.shape,val_labels.shape))"
   ],
   "metadata": {
    "collapsed": false,
    "pycharm": {
     "name": "#%%\n"
    }
   }
  },
  {
   "cell_type": "code",
   "execution_count": 108,
   "outputs": [],
   "source": [
    "from torch.utils.data import TensorDataset, DataLoader\n",
    "\n",
    "train_dataset = TensorDataset(train, train_labels)\n",
    "val_dataset = TensorDataset(val, val_labels)\n",
    "\n",
    "batch_size = 128\n",
    "\n",
    "train_loader = DataLoader(train_dataset, batch_size=batch_size, shuffle=True, num_workers=2, pin_memory=True, drop_last=True)\n",
    "val_loader = DataLoader(val_dataset, batch_size=batch_size, shuffle=True, num_workers=2, pin_memory=True, drop_last=True)"
   ],
   "metadata": {
    "collapsed": false,
    "pycharm": {
     "name": "#%%\n"
    }
   }
  },
  {
   "cell_type": "markdown",
   "source": [
    "num_worker应该不大于2 https://www.cnblogs.com/longyi8013/p/14880432.html"
   ],
   "metadata": {
    "collapsed": false,
    "pycharm": {
     "name": "#%% md\n"
    }
   }
  },
  {
   "cell_type": "code",
   "execution_count": 109,
   "outputs": [
    {
     "name": "stdout",
     "output_type": "stream",
     "text": [
      "cuda\n"
     ]
    }
   ],
   "source": [
    "device = \"cuda\" if torch.cuda.is_available() else \"cpu\"\n",
    "print(device)"
   ],
   "metadata": {
    "collapsed": false,
    "pycharm": {
     "name": "#%%\n"
    }
   }
  },
  {
   "cell_type": "code",
   "execution_count": 110,
   "outputs": [],
   "source": [
    "class SentimentNet(nn.Module):\n",
    "    def __init__(self, input_size, embedding_dim, hidden_dim, output_size, num_layers, dropout=0.5):\n",
    "        super(SentimentNet, self).__init__()\n",
    "        self.hidden_dim = hidden_dim\n",
    "        self.output_size = output_size\n",
    "        self.num_layers = num_layers\n",
    "\n",
    "        self.embedding= nn.Embedding(input_size, embedding_dim)\n",
    "        self.lstm = nn.LSTM(embedding_dim, hidden_dim, num_layers, dropout=dropout,batch_first=True)\n",
    "        self.linear = nn.Linear(hidden_dim, 128)\n",
    "        self.relu = nn.ReLU()\n",
    "        self.linear2 = nn.Linear(128, output_size)\n",
    "\n",
    "        self.dropout = nn.Dropout(p=0.4)\n",
    "\n",
    "    def forward(self, x, hidden):\n",
    "        \"\"\"\n",
    "             x:  (128,10)\n",
    "        \"\"\"\n",
    "\n",
    "        batch_size = x.size(0)\n",
    "        x = x.long()\n",
    "        embeds = self.embedding(x) # embeds(128,10,200)\n",
    "\n",
    "\n",
    "        #  out(128,22,128)--batch_size,seq_len, hidden_size\n",
    "        #  hidden是个元组{h_n,c_n}每个都是(2, 128,128) -- num_layer,batch_size, hidden_size\n",
    "        out,hidden = self.lstm(embeds, hidden)\n",
    "        out = self.linear(out[:, -1, :]) # out(128，128)\n",
    "        out = self.dropout(out)\n",
    "        out = self.relu(out)\n",
    "        out = self.linear2(out) # out(128, 6)\n",
    "\n",
    "        return out, hidden # hidden (h_n, c_n)\n",
    "\n",
    "    def init_hidden(self, batch_size):\n",
    "        weight = next(self.parameters())\n",
    "        # h_0, c_0\n",
    "        return (weight.new_zeros(self.num_layers, batch_size, self.hidden_dim),\n",
    "                weight.new_zeros(self.num_layers, batch_size, self.hidden_dim))"
   ],
   "metadata": {
    "collapsed": false,
    "pycharm": {
     "name": "#%%\n"
    }
   }
  },
  {
   "cell_type": "code",
   "execution_count": 111,
   "outputs": [],
   "source": [
    "input_size = len(word2int)\n",
    "output_size = len(category)\n",
    "embedding_dim = 200\n",
    "hidden_dim= 128\n",
    "num_layers= 2"
   ],
   "metadata": {
    "collapsed": false,
    "pycharm": {
     "name": "#%%\n"
    }
   }
  },
  {
   "cell_type": "code",
   "execution_count": 112,
   "outputs": [
    {
     "data": {
      "text/plain": "SentimentNet(\n  (embedding): Embedding(13478, 200)\n  (lstm): LSTM(200, 128, num_layers=2, batch_first=True, dropout=0.5)\n  (linear): Linear(in_features=128, out_features=128, bias=True)\n  (relu): ReLU()\n  (linear2): Linear(in_features=128, out_features=6, bias=True)\n  (dropout): Dropout(p=0.4, inplace=False)\n)"
     },
     "execution_count": 112,
     "metadata": {},
     "output_type": "execute_result"
    }
   ],
   "source": [
    "model = SentimentNet(input_size, embedding_dim, hidden_dim, output_size, num_layers)\n",
    "model.to(device)"
   ],
   "metadata": {
    "collapsed": false,
    "pycharm": {
     "name": "#%%\n"
    }
   }
  },
  {
   "cell_type": "code",
   "execution_count": 113,
   "outputs": [],
   "source": [
    "criterion = torch.nn.CrossEntropyLoss()\n",
    "optimizer = torch.optim.RMSprop(model.parameters(), lr=1e-3)\n",
    "# Decay LR by a factor of 0.1 every 3 epochs\n",
    "exp_lr_scheduler = torch.optim.lr_scheduler.StepLR(optimizer, step_size=10, gamma=0.1)"
   ],
   "metadata": {
    "collapsed": false,
    "pycharm": {
     "name": "#%%\n"
    }
   }
  },
  {
   "cell_type": "code",
   "execution_count": 114,
   "outputs": [],
   "source": [
    "def train(model, data_loader, criterion, optimizer, scheduler, num_epochs):\n",
    "    train_process = dict()\n",
    "    train_loss_epoch10, val_loss_epoch10= [],[]\n",
    "    val_acc_epoch10 = []\n",
    "    for epoch in range(num_epochs):\n",
    "        hs = model.init_hidden(batch_size)\n",
    "        train_loss = []\n",
    "        train_correct = 0\n",
    "        model.train()\n",
    "        for data, target in data_loader:\n",
    "            data = data.to(device)\n",
    "            target = target.to(device)\n",
    "            output,hs = model(data, hs)\n",
    "            preds = torch.argmax(output, dim=1)\n",
    "            train_correct += torch.sum(preds==target)\n",
    "\n",
    "            hs = tuple([h.data for h in hs])\n",
    "            loss = criterion(output, target)\n",
    "            optimizer.zero_grad()\n",
    "            loss.backward()\n",
    "            optimizer.step()\n",
    "            train_loss.append(loss.item())\n",
    "        print(f\"Epoch [{epoch}/{num_epochs-1}]---train loss {np.mean(train_loss):>.5f}\")\n",
    "\n",
    "        scheduler.step()\n",
    "\n",
    "        if epoch % 10 == 0:\n",
    "            validation_loss, validation_acc = validation(model, val_loader, criterion)\n",
    "\n",
    "            train_loss_epoch10.append(np.mean(train_loss))\n",
    "            val_loss_epoch10.append(validation_loss)\n",
    "            val_acc_epoch10.append(validation_acc)\n",
    "\n",
    "    train_process[\"train_loss\"] = train_loss_epoch10\n",
    "    train_process[\"val_loss\"] = val_loss_epoch10\n",
    "    train_process[\"val_acc\"] = val_acc_epoch10\n",
    "    return train_process\n",
    "\n",
    "def validation(model, val_loader, criterion):\n",
    "    model.eval()\n",
    "    hs = model.init_hidden(batch_size)\n",
    "    val_loss = []\n",
    "    val_correct = 0\n",
    "    with torch.no_grad():\n",
    "        for data, target in val_loader:\n",
    "            data = data.to(device)\n",
    "            target = target.to(device)\n",
    "            outs,hs = model(data,hs)\n",
    "            hs = tuple([h.data for h in hs])\n",
    "\n",
    "            loss = criterion(outs, target)\n",
    "            preds = torch.argmax(outs, dim=1)\n",
    "            val_loss.append(loss.item())\n",
    "            val_correct += torch.sum(preds==target)\n",
    "    print(f\"--------------------------------validation loss is: {np.mean(val_loss):>.5f}, acc is: {100*val_correct/len(val_loader.dataset):>.2f}%\")\n",
    "    return np.mean(val_loss), val_correct/len(val_loader.dataset)"
   ],
   "metadata": {
    "collapsed": false,
    "pycharm": {
     "name": "#%%\n"
    }
   }
  },
  {
   "cell_type": "code",
   "execution_count": 115,
   "outputs": [
    {
     "name": "stdout",
     "output_type": "stream",
     "text": [
      "Epoch [0/99]---train loss 1.59561\n",
      "--------------------------------validation loss is: 1.57851, acc is: 31.36%\n",
      "Epoch [1/99]---train loss 1.58089\n",
      "Epoch [2/99]---train loss 1.45152\n",
      "Epoch [3/99]---train loss 1.16529\n",
      "Epoch [4/99]---train loss 1.04221\n",
      "Epoch [5/99]---train loss 0.92176\n",
      "Epoch [6/99]---train loss 0.79348\n",
      "Epoch [7/99]---train loss 0.66122\n",
      "Epoch [8/99]---train loss 0.55338\n",
      "Epoch [9/99]---train loss 0.35823\n",
      "Epoch [10/99]---train loss 0.19518\n",
      "--------------------------------validation loss is: 0.59617, acc is: 80.68%\n",
      "Epoch [11/99]---train loss 0.16765\n",
      "Epoch [12/99]---train loss 0.15159\n",
      "Epoch [13/99]---train loss 0.13251\n",
      "Epoch [14/99]---train loss 0.12101\n",
      "Epoch [15/99]---train loss 0.11351\n",
      "Epoch [16/99]---train loss 0.10680\n",
      "Epoch [17/99]---train loss 0.09633\n",
      "Epoch [18/99]---train loss 0.08807\n",
      "Epoch [19/99]---train loss 0.08218\n",
      "Epoch [20/99]---train loss 0.07582\n",
      "--------------------------------validation loss is: 0.68111, acc is: 81.52%\n",
      "Epoch [21/99]---train loss 0.07480\n",
      "Epoch [22/99]---train loss 0.07791\n",
      "Epoch [23/99]---train loss 0.07715\n",
      "Epoch [24/99]---train loss 0.07707\n",
      "Epoch [25/99]---train loss 0.07797\n",
      "Epoch [26/99]---train loss 0.07871\n",
      "Epoch [27/99]---train loss 0.07272\n",
      "Epoch [28/99]---train loss 0.06863\n",
      "Epoch [29/99]---train loss 0.07654\n",
      "Epoch [30/99]---train loss 0.07362\n",
      "--------------------------------validation loss is: 0.70063, acc is: 81.68%\n",
      "Epoch [31/99]---train loss 0.06811\n",
      "Epoch [32/99]---train loss 0.07395\n",
      "Epoch [33/99]---train loss 0.07473\n",
      "Epoch [34/99]---train loss 0.07043\n",
      "Epoch [35/99]---train loss 0.06870\n",
      "Epoch [36/99]---train loss 0.06830\n",
      "Epoch [37/99]---train loss 0.06784\n",
      "Epoch [38/99]---train loss 0.06939\n",
      "Epoch [39/99]---train loss 0.06911\n",
      "Epoch [40/99]---train loss 0.06961\n",
      "--------------------------------validation loss is: 0.68960, acc is: 81.61%\n",
      "Epoch [41/99]---train loss 0.07013\n",
      "Epoch [42/99]---train loss 0.06972\n",
      "Epoch [43/99]---train loss 0.07017\n",
      "Epoch [44/99]---train loss 0.06829\n",
      "Epoch [45/99]---train loss 0.07317\n",
      "Epoch [46/99]---train loss 0.07148\n",
      "Epoch [47/99]---train loss 0.07073\n",
      "Epoch [48/99]---train loss 0.07284\n",
      "Epoch [49/99]---train loss 0.07080\n",
      "Epoch [50/99]---train loss 0.06937\n",
      "--------------------------------validation loss is: 0.70722, acc is: 81.89%\n",
      "Epoch [51/99]---train loss 0.06767\n",
      "Epoch [52/99]---train loss 0.06935\n",
      "Epoch [53/99]---train loss 0.06797\n",
      "Epoch [54/99]---train loss 0.06794\n",
      "Epoch [55/99]---train loss 0.07033\n",
      "Epoch [56/99]---train loss 0.07062\n",
      "Epoch [57/99]---train loss 0.06867\n",
      "Epoch [58/99]---train loss 0.06731\n",
      "Epoch [59/99]---train loss 0.07565\n",
      "Epoch [60/99]---train loss 0.06430\n",
      "--------------------------------validation loss is: 0.69929, acc is: 82.11%\n",
      "Epoch [61/99]---train loss 0.06741\n",
      "Epoch [62/99]---train loss 0.07396\n",
      "Epoch [63/99]---train loss 0.07259\n",
      "Epoch [64/99]---train loss 0.06987\n",
      "Epoch [65/99]---train loss 0.06575\n",
      "Epoch [66/99]---train loss 0.07256\n",
      "Epoch [67/99]---train loss 0.07187\n",
      "Epoch [68/99]---train loss 0.06791\n",
      "Epoch [69/99]---train loss 0.06912\n",
      "Epoch [70/99]---train loss 0.07180\n",
      "--------------------------------validation loss is: 0.69846, acc is: 81.86%\n",
      "Epoch [71/99]---train loss 0.07166\n",
      "Epoch [72/99]---train loss 0.06747\n",
      "Epoch [73/99]---train loss 0.07121\n",
      "Epoch [74/99]---train loss 0.07022\n",
      "Epoch [75/99]---train loss 0.07101\n",
      "Epoch [76/99]---train loss 0.07298\n",
      "Epoch [77/99]---train loss 0.06871\n",
      "Epoch [78/99]---train loss 0.07246\n",
      "Epoch [79/99]---train loss 0.06828\n",
      "Epoch [80/99]---train loss 0.06782\n",
      "--------------------------------validation loss is: 0.69289, acc is: 82.05%\n",
      "Epoch [81/99]---train loss 0.06824\n",
      "Epoch [82/99]---train loss 0.07276\n",
      "Epoch [83/99]---train loss 0.07032\n",
      "Epoch [84/99]---train loss 0.07270\n",
      "Epoch [85/99]---train loss 0.06942\n",
      "Epoch [86/99]---train loss 0.07176\n",
      "Epoch [87/99]---train loss 0.07049\n",
      "Epoch [88/99]---train loss 0.07224\n",
      "Epoch [89/99]---train loss 0.07043\n",
      "Epoch [90/99]---train loss 0.06835\n",
      "--------------------------------validation loss is: 0.70442, acc is: 81.77%\n",
      "Epoch [91/99]---train loss 0.07120\n",
      "Epoch [92/99]---train loss 0.06803\n",
      "Epoch [93/99]---train loss 0.07250\n",
      "Epoch [94/99]---train loss 0.07153\n",
      "Epoch [95/99]---train loss 0.07114\n",
      "Epoch [96/99]---train loss 0.07422\n",
      "Epoch [97/99]---train loss 0.06800\n",
      "Epoch [98/99]---train loss 0.07279\n",
      "Epoch [99/99]---train loss 0.07051\n"
     ]
    }
   ],
   "source": [
    "train_process = train(model, train_loader, criterion, optimizer,exp_lr_scheduler, num_epochs=100)"
   ],
   "metadata": {
    "collapsed": false,
    "pycharm": {
     "name": "#%%\n"
    }
   }
  },
  {
   "cell_type": "code",
   "execution_count": 116,
   "outputs": [
    {
     "ename": "TypeError",
     "evalue": "can't convert cuda:0 device type tensor to numpy. Use Tensor.cpu() to copy the tensor to host memory first.",
     "output_type": "error",
     "traceback": [
      "\u001B[1;31m---------------------------------------------------------------------------\u001B[0m",
      "\u001B[1;31mTypeError\u001B[0m                                 Traceback (most recent call last)",
      "Input \u001B[1;32mIn [116]\u001B[0m, in \u001B[0;36m<cell line: 14>\u001B[1;34m()\u001B[0m\n\u001B[0;32m     12\u001B[0m plt\u001B[38;5;241m.\u001B[39mylabel(\u001B[38;5;124m\"\u001B[39m\u001B[38;5;124maccuracy\u001B[39m\u001B[38;5;124m\"\u001B[39m)\n\u001B[0;32m     13\u001B[0m plt\u001B[38;5;241m.\u001B[39mtitle(\u001B[38;5;124m\"\u001B[39m\u001B[38;5;124mValidation Accuracy\u001B[39m\u001B[38;5;124m\"\u001B[39m)\n\u001B[1;32m---> 14\u001B[0m \u001B[43mplt\u001B[49m\u001B[38;5;241;43m.\u001B[39;49m\u001B[43mplot\u001B[49m\u001B[43m(\u001B[49m\u001B[43mtrain_process\u001B[49m\u001B[43m[\u001B[49m\u001B[38;5;124;43m\"\u001B[39;49m\u001B[38;5;124;43mval_acc\u001B[39;49m\u001B[38;5;124;43m\"\u001B[39;49m\u001B[43m]\u001B[49m\u001B[43m)\u001B[49m\n\u001B[0;32m     15\u001B[0m plt\u001B[38;5;241m.\u001B[39mshow()\n",
      "File \u001B[1;32m~\\AppData\\Roaming\\Python\\Python39\\site-packages\\matplotlib\\pyplot.py:2757\u001B[0m, in \u001B[0;36mplot\u001B[1;34m(scalex, scaley, data, *args, **kwargs)\u001B[0m\n\u001B[0;32m   2755\u001B[0m \u001B[38;5;129m@_copy_docstring_and_deprecators\u001B[39m(Axes\u001B[38;5;241m.\u001B[39mplot)\n\u001B[0;32m   2756\u001B[0m \u001B[38;5;28;01mdef\u001B[39;00m \u001B[38;5;21mplot\u001B[39m(\u001B[38;5;241m*\u001B[39margs, scalex\u001B[38;5;241m=\u001B[39m\u001B[38;5;28;01mTrue\u001B[39;00m, scaley\u001B[38;5;241m=\u001B[39m\u001B[38;5;28;01mTrue\u001B[39;00m, data\u001B[38;5;241m=\u001B[39m\u001B[38;5;28;01mNone\u001B[39;00m, \u001B[38;5;241m*\u001B[39m\u001B[38;5;241m*\u001B[39mkwargs):\n\u001B[1;32m-> 2757\u001B[0m     \u001B[38;5;28;01mreturn\u001B[39;00m gca()\u001B[38;5;241m.\u001B[39mplot(\n\u001B[0;32m   2758\u001B[0m         \u001B[38;5;241m*\u001B[39margs, scalex\u001B[38;5;241m=\u001B[39mscalex, scaley\u001B[38;5;241m=\u001B[39mscaley,\n\u001B[0;32m   2759\u001B[0m         \u001B[38;5;241m*\u001B[39m\u001B[38;5;241m*\u001B[39m({\u001B[38;5;124m\"\u001B[39m\u001B[38;5;124mdata\u001B[39m\u001B[38;5;124m\"\u001B[39m: data} \u001B[38;5;28;01mif\u001B[39;00m data \u001B[38;5;129;01mis\u001B[39;00m \u001B[38;5;129;01mnot\u001B[39;00m \u001B[38;5;28;01mNone\u001B[39;00m \u001B[38;5;28;01melse\u001B[39;00m {}), \u001B[38;5;241m*\u001B[39m\u001B[38;5;241m*\u001B[39mkwargs)\n",
      "File \u001B[1;32m~\\AppData\\Roaming\\Python\\Python39\\site-packages\\matplotlib\\axes\\_axes.py:1632\u001B[0m, in \u001B[0;36mAxes.plot\u001B[1;34m(self, scalex, scaley, data, *args, **kwargs)\u001B[0m\n\u001B[0;32m   1390\u001B[0m \u001B[38;5;124;03m\"\"\"\u001B[39;00m\n\u001B[0;32m   1391\u001B[0m \u001B[38;5;124;03mPlot y versus x as lines and/or markers.\u001B[39;00m\n\u001B[0;32m   1392\u001B[0m \n\u001B[1;32m   (...)\u001B[0m\n\u001B[0;32m   1629\u001B[0m \u001B[38;5;124;03m(``'green'``) or hex strings (``'#008000'``).\u001B[39;00m\n\u001B[0;32m   1630\u001B[0m \u001B[38;5;124;03m\"\"\"\u001B[39;00m\n\u001B[0;32m   1631\u001B[0m kwargs \u001B[38;5;241m=\u001B[39m cbook\u001B[38;5;241m.\u001B[39mnormalize_kwargs(kwargs, mlines\u001B[38;5;241m.\u001B[39mLine2D)\n\u001B[1;32m-> 1632\u001B[0m lines \u001B[38;5;241m=\u001B[39m [\u001B[38;5;241m*\u001B[39m\u001B[38;5;28mself\u001B[39m\u001B[38;5;241m.\u001B[39m_get_lines(\u001B[38;5;241m*\u001B[39margs, data\u001B[38;5;241m=\u001B[39mdata, \u001B[38;5;241m*\u001B[39m\u001B[38;5;241m*\u001B[39mkwargs)]\n\u001B[0;32m   1633\u001B[0m \u001B[38;5;28;01mfor\u001B[39;00m line \u001B[38;5;129;01min\u001B[39;00m lines:\n\u001B[0;32m   1634\u001B[0m     \u001B[38;5;28mself\u001B[39m\u001B[38;5;241m.\u001B[39madd_line(line)\n",
      "File \u001B[1;32m~\\AppData\\Roaming\\Python\\Python39\\site-packages\\matplotlib\\axes\\_base.py:312\u001B[0m, in \u001B[0;36m_process_plot_var_args.__call__\u001B[1;34m(self, data, *args, **kwargs)\u001B[0m\n\u001B[0;32m    310\u001B[0m     this \u001B[38;5;241m+\u001B[39m\u001B[38;5;241m=\u001B[39m args[\u001B[38;5;241m0\u001B[39m],\n\u001B[0;32m    311\u001B[0m     args \u001B[38;5;241m=\u001B[39m args[\u001B[38;5;241m1\u001B[39m:]\n\u001B[1;32m--> 312\u001B[0m \u001B[38;5;28;01myield from\u001B[39;00m \u001B[38;5;28;43mself\u001B[39;49m\u001B[38;5;241;43m.\u001B[39;49m\u001B[43m_plot_args\u001B[49m\u001B[43m(\u001B[49m\u001B[43mthis\u001B[49m\u001B[43m,\u001B[49m\u001B[43m \u001B[49m\u001B[43mkwargs\u001B[49m\u001B[43m)\u001B[49m\n",
      "File \u001B[1;32m~\\AppData\\Roaming\\Python\\Python39\\site-packages\\matplotlib\\axes\\_base.py:490\u001B[0m, in \u001B[0;36m_process_plot_var_args._plot_args\u001B[1;34m(self, tup, kwargs, return_kwargs)\u001B[0m\n\u001B[0;32m    488\u001B[0m     y \u001B[38;5;241m=\u001B[39m _check_1d(xy[\u001B[38;5;241m1\u001B[39m])\n\u001B[0;32m    489\u001B[0m \u001B[38;5;28;01melse\u001B[39;00m:\n\u001B[1;32m--> 490\u001B[0m     x, y \u001B[38;5;241m=\u001B[39m \u001B[43mindex_of\u001B[49m\u001B[43m(\u001B[49m\u001B[43mxy\u001B[49m\u001B[43m[\u001B[49m\u001B[38;5;241;43m-\u001B[39;49m\u001B[38;5;241;43m1\u001B[39;49m\u001B[43m]\u001B[49m\u001B[43m)\u001B[49m\n\u001B[0;32m    492\u001B[0m \u001B[38;5;28;01mif\u001B[39;00m \u001B[38;5;28mself\u001B[39m\u001B[38;5;241m.\u001B[39maxes\u001B[38;5;241m.\u001B[39mxaxis \u001B[38;5;129;01mis\u001B[39;00m \u001B[38;5;129;01mnot\u001B[39;00m \u001B[38;5;28;01mNone\u001B[39;00m:\n\u001B[0;32m    493\u001B[0m     \u001B[38;5;28mself\u001B[39m\u001B[38;5;241m.\u001B[39maxes\u001B[38;5;241m.\u001B[39mxaxis\u001B[38;5;241m.\u001B[39mupdate_units(x)\n",
      "File \u001B[1;32m~\\AppData\\Roaming\\Python\\Python39\\site-packages\\matplotlib\\cbook\\__init__.py:1652\u001B[0m, in \u001B[0;36mindex_of\u001B[1;34m(y)\u001B[0m\n\u001B[0;32m   1650\u001B[0m     \u001B[38;5;28;01mpass\u001B[39;00m\n\u001B[0;32m   1651\u001B[0m \u001B[38;5;28;01mtry\u001B[39;00m:\n\u001B[1;32m-> 1652\u001B[0m     y \u001B[38;5;241m=\u001B[39m \u001B[43m_check_1d\u001B[49m\u001B[43m(\u001B[49m\u001B[43my\u001B[49m\u001B[43m)\u001B[49m\n\u001B[0;32m   1653\u001B[0m \u001B[38;5;28;01mexcept\u001B[39;00m (np\u001B[38;5;241m.\u001B[39mVisibleDeprecationWarning, \u001B[38;5;167;01mValueError\u001B[39;00m):\n\u001B[0;32m   1654\u001B[0m     \u001B[38;5;66;03m# NumPy 1.19 will warn on ragged input, and we can't actually use it.\u001B[39;00m\n\u001B[0;32m   1655\u001B[0m     \u001B[38;5;28;01mpass\u001B[39;00m\n",
      "File \u001B[1;32m~\\AppData\\Roaming\\Python\\Python39\\site-packages\\matplotlib\\cbook\\__init__.py:1304\u001B[0m, in \u001B[0;36m_check_1d\u001B[1;34m(x)\u001B[0m\n\u001B[0;32m   1302\u001B[0m \u001B[38;5;124;03m\"\"\"Convert scalars to 1D arrays; pass-through arrays as is.\"\"\"\u001B[39;00m\n\u001B[0;32m   1303\u001B[0m \u001B[38;5;28;01mif\u001B[39;00m \u001B[38;5;129;01mnot\u001B[39;00m \u001B[38;5;28mhasattr\u001B[39m(x, \u001B[38;5;124m'\u001B[39m\u001B[38;5;124mshape\u001B[39m\u001B[38;5;124m'\u001B[39m) \u001B[38;5;129;01mor\u001B[39;00m \u001B[38;5;28mlen\u001B[39m(x\u001B[38;5;241m.\u001B[39mshape) \u001B[38;5;241m<\u001B[39m \u001B[38;5;241m1\u001B[39m:\n\u001B[1;32m-> 1304\u001B[0m     \u001B[38;5;28;01mreturn\u001B[39;00m \u001B[43mnp\u001B[49m\u001B[38;5;241;43m.\u001B[39;49m\u001B[43matleast_1d\u001B[49m\u001B[43m(\u001B[49m\u001B[43mx\u001B[49m\u001B[43m)\u001B[49m\n\u001B[0;32m   1305\u001B[0m \u001B[38;5;28;01melse\u001B[39;00m:\n\u001B[0;32m   1306\u001B[0m     \u001B[38;5;28;01mtry\u001B[39;00m:\n\u001B[0;32m   1307\u001B[0m         \u001B[38;5;66;03m# work around\u001B[39;00m\n\u001B[0;32m   1308\u001B[0m         \u001B[38;5;66;03m# https://github.com/pandas-dev/pandas/issues/27775 which\u001B[39;00m\n\u001B[1;32m   (...)\u001B[0m\n\u001B[0;32m   1319\u001B[0m         \u001B[38;5;66;03m# This code should correctly identify and coerce to a\u001B[39;00m\n\u001B[0;32m   1320\u001B[0m         \u001B[38;5;66;03m# numpy array all pandas versions.\u001B[39;00m\n",
      "File \u001B[1;32m<__array_function__ internals>:5\u001B[0m, in \u001B[0;36matleast_1d\u001B[1;34m(*args, **kwargs)\u001B[0m\n",
      "File \u001B[1;32mD:\\Develop\\Anaconda3\\envs\\jupyter\\lib\\site-packages\\numpy\\core\\shape_base.py:65\u001B[0m, in \u001B[0;36matleast_1d\u001B[1;34m(*arys)\u001B[0m\n\u001B[0;32m     63\u001B[0m res \u001B[38;5;241m=\u001B[39m []\n\u001B[0;32m     64\u001B[0m \u001B[38;5;28;01mfor\u001B[39;00m ary \u001B[38;5;129;01min\u001B[39;00m arys:\n\u001B[1;32m---> 65\u001B[0m     ary \u001B[38;5;241m=\u001B[39m \u001B[43masanyarray\u001B[49m\u001B[43m(\u001B[49m\u001B[43mary\u001B[49m\u001B[43m)\u001B[49m\n\u001B[0;32m     66\u001B[0m     \u001B[38;5;28;01mif\u001B[39;00m ary\u001B[38;5;241m.\u001B[39mndim \u001B[38;5;241m==\u001B[39m \u001B[38;5;241m0\u001B[39m:\n\u001B[0;32m     67\u001B[0m         result \u001B[38;5;241m=\u001B[39m ary\u001B[38;5;241m.\u001B[39mreshape(\u001B[38;5;241m1\u001B[39m)\n",
      "File \u001B[1;32mD:\\Develop\\Anaconda3\\envs\\jupyter\\lib\\site-packages\\torch\\_tensor.py:757\u001B[0m, in \u001B[0;36mTensor.__array__\u001B[1;34m(self, dtype)\u001B[0m\n\u001B[0;32m    755\u001B[0m     \u001B[38;5;28;01mreturn\u001B[39;00m handle_torch_function(Tensor\u001B[38;5;241m.\u001B[39m__array__, (\u001B[38;5;28mself\u001B[39m,), \u001B[38;5;28mself\u001B[39m, dtype\u001B[38;5;241m=\u001B[39mdtype)\n\u001B[0;32m    756\u001B[0m \u001B[38;5;28;01mif\u001B[39;00m dtype \u001B[38;5;129;01mis\u001B[39;00m \u001B[38;5;28;01mNone\u001B[39;00m:\n\u001B[1;32m--> 757\u001B[0m     \u001B[38;5;28;01mreturn\u001B[39;00m \u001B[38;5;28;43mself\u001B[39;49m\u001B[38;5;241;43m.\u001B[39;49m\u001B[43mnumpy\u001B[49m\u001B[43m(\u001B[49m\u001B[43m)\u001B[49m\n\u001B[0;32m    758\u001B[0m \u001B[38;5;28;01melse\u001B[39;00m:\n\u001B[0;32m    759\u001B[0m     \u001B[38;5;28;01mreturn\u001B[39;00m \u001B[38;5;28mself\u001B[39m\u001B[38;5;241m.\u001B[39mnumpy()\u001B[38;5;241m.\u001B[39mastype(dtype, copy\u001B[38;5;241m=\u001B[39m\u001B[38;5;28;01mFalse\u001B[39;00m)\n",
      "\u001B[1;31mTypeError\u001B[0m: can't convert cuda:0 device type tensor to numpy. Use Tensor.cpu() to copy the tensor to host memory first."
     ]
    },
    {
     "data": {
      "text/plain": "<Figure size 1152x288 with 2 Axes>",
      "image/png": "[encoded data removed]"
     },
     "metadata": {
      "needs_background": "light"
     },
     "output_type": "display_data"
    }
   ],
   "source": [
    "import matplotlib.pyplot as plt\n",
    "plt.figure(figsize=(16,4))\n",
    "plt.subplot(1,2,1)\n",
    "plt.title(\"Loss\")\n",
    "plt.ylabel(\"loss\")\n",
    "plt.plot(train_process[\"train_loss\"],label=\"train-loss\")\n",
    "plt.plot(train_process[\"val_loss\"],label=\"val-loss\")\n",
    "plt.legend()\n",
    "\n",
    "plt.subplot(1,2,2)\n",
    "plt.legend(labels=[\"\"])\n",
    "plt.ylabel(\"accuracy\")\n",
    "plt.title(\"Validation Accuracy\")\n",
    "plt.plot(train_process[\"val_acc\"].cpu())\n",
    "plt.show()"
   ],
   "metadata": {
    "collapsed": false,
    "pycharm": {
     "name": "#%%\n"
    }
   }
  },
  {
   "cell_type": "code",
   "execution_count": 118,
   "outputs": [
    {
     "name": "stdout",
     "output_type": "stream",
     "text": [
      "i like to have the same breathless feeling as a reader eager to see what will happen next\n",
      "   预测结果是:  joy\n",
      "i don t feel particularly agitated\n",
      "   预测结果是:  fear\n",
      "i feel like i m defective or something for not having baby fever\n",
      "   预测结果是:  sadness\n"
     ]
    }
   ],
   "source": [
    "from string import punctuation\n",
    "texts = [\"i like to have the same breathless feeling as a reader eager to see what will happen next\",\n",
    "        \"i don t feel particularly agitated\",\n",
    "         \"i feel like i m defective or something for not having baby fever\"\n",
    "       ]\n",
    "def converts(text):\n",
    "    text = remove_hyperlinks(text)\n",
    "    text = remove_currencies(text)\n",
    "    text = remove_number(text)\n",
    "    new_text = remove_punctuation(text)\n",
    "    test_text_ints = [word2int[word.lower()]for word in new_text.split() if word in word2int.keys()]\n",
    "    return test_text_ints\n",
    "\n",
    "def predict(model):\n",
    "    test_text_ints = [converts(text) for text in texts]\n",
    "\n",
    "    new_test_text_ints = reset_text(test_text_ints, seq_len=22)\n",
    "    text_tensor = torch.from_numpy(new_test_text_ints)\n",
    "\n",
    "    batch_size = text_tensor.size(0)\n",
    "    hs = model.init_hidden(batch_size)\n",
    "\n",
    "    text_tensor = text_tensor.to(device)\n",
    "    outs, hs = model(text_tensor,hs)\n",
    "    preds = torch.argmax(outs, dim=1)\n",
    "\n",
    "    for i in range(len(texts)):\n",
    "        print(texts[i])\n",
    "        print(\"   预测结果是: \", category[int(preds[i])])\n",
    "\n",
    "predict(model)"
   ],
   "metadata": {
    "collapsed": false,
    "pycharm": {
     "name": "#%%\n"
    }
   }
  }
 ],
 "metadata": {
  "kernelspec": {
   "display_name": "Python 3",
   "language": "python",
   "name": "python3"
  },
  "language_info": {
   "codemirror_mode": {
    "name": "ipython",
    "version": 2
   },
   "file_extension": ".py",
   "mimetype": "text/x-python",
   "name": "python",
   "nbconvert_exporter": "python",
   "pygments_lexer": "ipython2",
   "version": "2.7.6"
  }
 },
 "nbformat": 4,
 "nbformat_minor": 0
}