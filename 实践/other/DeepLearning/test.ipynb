{
 "cells": [
  {
   "cell_type": "code",
   "execution_count": 1,
   "metadata": {
    "collapsed": true,
    "pycharm": {
     "name": "#%%\n"
    }
   },
   "outputs": [],
   "source": [
    "import torch\n",
    "from torch import nn\n",
    "from d2l import torch as d2l"
   ]
  },
  {
   "cell_type": "code",
   "execution_count": 3,
   "outputs": [
    {
     "data": {
      "text/plain": "(tensor([0.0253, 0.0367, 0.1280, 0.2253, 0.3222, 0.3795, 0.4000, 0.4643, 0.6481,\n         0.7931, 0.9149, 1.1079, 1.1466, 1.1898, 1.2689, 1.2805, 1.3110, 1.4620,\n         1.5031, 1.5407, 1.6506, 1.7624, 2.0068, 2.0937, 2.2969, 2.3732, 2.3815,\n         2.4194, 2.4300, 2.6284, 2.6801, 2.7131, 2.7236, 2.7436, 3.4003, 3.4749,\n         3.5081, 3.6291, 3.7728, 3.7941, 3.9971, 4.0758, 4.1005, 4.3960, 4.4660,\n         4.4901, 4.6892, 4.7012, 4.7611, 4.7614]),\n tensor([46,  7, 40, 30, 44, 31,  4,  3, 12, 11, 36, 23, 22, 27, 43, 33, 39, 25,\n         47, 41, 26, 35, 49, 28, 34, 20, 48, 16, 15,  2, 19, 45, 14,  9,  1, 38,\n         13,  5, 37, 29,  8, 32, 17, 18,  6, 10,  0, 24, 42, 21]))"
     },
     "execution_count": 3,
     "metadata": {},
     "output_type": "execute_result"
    }
   ],
   "source": [
    "n_train = 50  # 训练样本数\n",
    "x_train, idx = torch.sort(torch.rand(n_train) * 5)   # 排序后的训练样本\n"
   ],
   "metadata": {
    "collapsed": false,
    "pycharm": {
     "name": "#%%\n"
    }
   }
  },
  {
   "cell_type": "code",
   "execution_count": 4,
   "outputs": [
    {
     "data": {
      "text/plain": "50"
     },
     "execution_count": 4,
     "metadata": {},
     "output_type": "execute_result"
    }
   ],
   "source": [
    "def f(x):\n",
    "    return 2 * torch.sin(x) + x**0.8\n",
    "\n",
    "y_train = f(x_train) + torch.normal(0.0, 0.5, (n_train,))  # 训练样本的输出\n",
    "x_test = torch.arange(0, 5, 0.1)  # 测试样本\n",
    "y_truth = f(x_test)  # 测试样本的真实输出\n",
    "n_test = len(x_test)  # 测试样本数\n",
    "n_test"
   ],
   "metadata": {
    "collapsed": false,
    "pycharm": {
     "name": "#%%\n"
    }
   }
  },
  {
   "cell_type": "code",
   "execution_count": 5,
   "outputs": [],
   "source": [
    "def plot_kernel_reg(y_hat):\n",
    "    d2l.plot(x_test, [y_truth, y_hat], 'x', 'y', legend=['Truth', 'Pred'],\n",
    "             xlim=[0, 5], ylim=[-1, 5])\n",
    "    d2l.plt.plot(x_train, y_train, 'o', alpha=0.5);"
   ],
   "metadata": {
    "collapsed": false,
    "pycharm": {
     "name": "#%%\n"
    }
   }
  },
  {
   "cell_type": "code",
   "execution_count": 12,
   "outputs": [
    {
     "data": {
      "text/plain": "tensor([[0.0000, 0.0000, 0.0000,  ..., 0.0000, 0.0000, 0.0000],\n        [0.1000, 0.1000, 0.1000,  ..., 0.1000, 0.1000, 0.1000],\n        [0.2000, 0.2000, 0.2000,  ..., 0.2000, 0.2000, 0.2000],\n        ...,\n        [4.7000, 4.7000, 4.7000,  ..., 4.7000, 4.7000, 4.7000],\n        [4.8000, 4.8000, 4.8000,  ..., 4.8000, 4.8000, 4.8000],\n        [4.9000, 4.9000, 4.9000,  ..., 4.9000, 4.9000, 4.9000]])"
     },
     "execution_count": 12,
     "metadata": {},
     "output_type": "execute_result"
    }
   ],
   "source": [
    "# X_repeat的形状:(n_test,n_train),\n",
    "# 每一行都包含着相同的测试输入（例如：同样的查询）\n",
    "X_repeat = x_test.repeat_interleave(n_train).reshape((-1, n_train))\n",
    "X_repeat"
   ],
   "metadata": {
    "collapsed": false,
    "pycharm": {
     "name": "#%%\n"
    }
   }
  }
 ],
 "metadata": {
  "kernelspec": {
   "display_name": "Python 3",
   "language": "python",
   "name": "python3"
  },
  "language_info": {
   "codemirror_mode": {
    "name": "ipython",
    "version": 2
   },
   "file_extension": ".py",
   "mimetype": "text/x-python",
   "name": "python",
   "nbconvert_exporter": "python",
   "pygments_lexer": "ipython2",
   "version": "2.7.6"
  }
 },
 "nbformat": 4,
 "nbformat_minor": 0
}